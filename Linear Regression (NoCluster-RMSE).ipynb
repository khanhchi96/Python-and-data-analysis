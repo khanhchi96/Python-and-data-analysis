{
 "cells": [
  {
   "cell_type": "markdown",
   "metadata": {},
   "source": [
    "# Linear regression"
   ]
  },
  {
   "cell_type": "code",
   "execution_count": 1,
   "metadata": {},
   "outputs": [],
   "source": [
    "import pandas as pd\n",
    "import numpy as np\n",
    "import matplotlib.pyplot as plt\n",
    "import time"
   ]
  },
  {
   "cell_type": "code",
   "execution_count": 2,
   "metadata": {},
   "outputs": [
    {
     "data": {
      "text/html": [
       "<div>\n",
       "<style scoped>\n",
       "    .dataframe tbody tr th:only-of-type {\n",
       "        vertical-align: middle;\n",
       "    }\n",
       "\n",
       "    .dataframe tbody tr th {\n",
       "        vertical-align: top;\n",
       "    }\n",
       "\n",
       "    .dataframe thead th {\n",
       "        text-align: right;\n",
       "    }\n",
       "</style>\n",
       "<table border=\"1\" class=\"dataframe\">\n",
       "  <thead>\n",
       "    <tr style=\"text-align: right;\">\n",
       "      <th></th>\n",
       "      <th>age</th>\n",
       "      <th>sex</th>\n",
       "      <th>bmi</th>\n",
       "      <th>children</th>\n",
       "      <th>smoker</th>\n",
       "      <th>region</th>\n",
       "      <th>charges</th>\n",
       "    </tr>\n",
       "  </thead>\n",
       "  <tbody>\n",
       "    <tr>\n",
       "      <td>0</td>\n",
       "      <td>19</td>\n",
       "      <td>female</td>\n",
       "      <td>27.900</td>\n",
       "      <td>0</td>\n",
       "      <td>yes</td>\n",
       "      <td>southwest</td>\n",
       "      <td>16884.92400</td>\n",
       "    </tr>\n",
       "    <tr>\n",
       "      <td>1</td>\n",
       "      <td>18</td>\n",
       "      <td>male</td>\n",
       "      <td>33.770</td>\n",
       "      <td>1</td>\n",
       "      <td>no</td>\n",
       "      <td>southeast</td>\n",
       "      <td>1725.55230</td>\n",
       "    </tr>\n",
       "    <tr>\n",
       "      <td>2</td>\n",
       "      <td>28</td>\n",
       "      <td>male</td>\n",
       "      <td>33.000</td>\n",
       "      <td>3</td>\n",
       "      <td>no</td>\n",
       "      <td>southeast</td>\n",
       "      <td>4449.46200</td>\n",
       "    </tr>\n",
       "    <tr>\n",
       "      <td>3</td>\n",
       "      <td>33</td>\n",
       "      <td>male</td>\n",
       "      <td>22.705</td>\n",
       "      <td>0</td>\n",
       "      <td>no</td>\n",
       "      <td>northwest</td>\n",
       "      <td>21984.47061</td>\n",
       "    </tr>\n",
       "    <tr>\n",
       "      <td>4</td>\n",
       "      <td>32</td>\n",
       "      <td>male</td>\n",
       "      <td>28.880</td>\n",
       "      <td>0</td>\n",
       "      <td>no</td>\n",
       "      <td>northwest</td>\n",
       "      <td>3866.85520</td>\n",
       "    </tr>\n",
       "  </tbody>\n",
       "</table>\n",
       "</div>"
      ],
      "text/plain": [
       "   age     sex     bmi  children smoker     region      charges\n",
       "0   19  female  27.900         0    yes  southwest  16884.92400\n",
       "1   18    male  33.770         1     no  southeast   1725.55230\n",
       "2   28    male  33.000         3     no  southeast   4449.46200\n",
       "3   33    male  22.705         0     no  northwest  21984.47061\n",
       "4   32    male  28.880         0     no  northwest   3866.85520"
      ]
     },
     "execution_count": 2,
     "metadata": {},
     "output_type": "execute_result"
    }
   ],
   "source": [
    "df = pd.read_csv('insurance.csv')\n",
    "df.head() "
   ]
  },
  {
   "cell_type": "code",
   "execution_count": 3,
   "metadata": {},
   "outputs": [
    {
     "data": {
      "text/html": [
       "<div>\n",
       "<style scoped>\n",
       "    .dataframe tbody tr th:only-of-type {\n",
       "        vertical-align: middle;\n",
       "    }\n",
       "\n",
       "    .dataframe tbody tr th {\n",
       "        vertical-align: top;\n",
       "    }\n",
       "\n",
       "    .dataframe thead th {\n",
       "        text-align: right;\n",
       "    }\n",
       "</style>\n",
       "<table border=\"1\" class=\"dataframe\">\n",
       "  <thead>\n",
       "    <tr style=\"text-align: right;\">\n",
       "      <th></th>\n",
       "      <th>age</th>\n",
       "      <th>sex</th>\n",
       "      <th>bmi</th>\n",
       "      <th>children</th>\n",
       "      <th>smoker</th>\n",
       "      <th>region</th>\n",
       "      <th>charges</th>\n",
       "    </tr>\n",
       "  </thead>\n",
       "  <tbody>\n",
       "    <tr>\n",
       "      <td>1333</td>\n",
       "      <td>50</td>\n",
       "      <td>male</td>\n",
       "      <td>30.97</td>\n",
       "      <td>3</td>\n",
       "      <td>no</td>\n",
       "      <td>northwest</td>\n",
       "      <td>10600.5483</td>\n",
       "    </tr>\n",
       "    <tr>\n",
       "      <td>1334</td>\n",
       "      <td>18</td>\n",
       "      <td>female</td>\n",
       "      <td>31.92</td>\n",
       "      <td>0</td>\n",
       "      <td>no</td>\n",
       "      <td>northeast</td>\n",
       "      <td>2205.9808</td>\n",
       "    </tr>\n",
       "    <tr>\n",
       "      <td>1335</td>\n",
       "      <td>18</td>\n",
       "      <td>female</td>\n",
       "      <td>36.85</td>\n",
       "      <td>0</td>\n",
       "      <td>no</td>\n",
       "      <td>southeast</td>\n",
       "      <td>1629.8335</td>\n",
       "    </tr>\n",
       "    <tr>\n",
       "      <td>1336</td>\n",
       "      <td>21</td>\n",
       "      <td>female</td>\n",
       "      <td>25.80</td>\n",
       "      <td>0</td>\n",
       "      <td>no</td>\n",
       "      <td>southwest</td>\n",
       "      <td>2007.9450</td>\n",
       "    </tr>\n",
       "    <tr>\n",
       "      <td>1337</td>\n",
       "      <td>61</td>\n",
       "      <td>female</td>\n",
       "      <td>29.07</td>\n",
       "      <td>0</td>\n",
       "      <td>yes</td>\n",
       "      <td>northwest</td>\n",
       "      <td>29141.3603</td>\n",
       "    </tr>\n",
       "  </tbody>\n",
       "</table>\n",
       "</div>"
      ],
      "text/plain": [
       "      age     sex    bmi  children smoker     region     charges\n",
       "1333   50    male  30.97         3     no  northwest  10600.5483\n",
       "1334   18  female  31.92         0     no  northeast   2205.9808\n",
       "1335   18  female  36.85         0     no  southeast   1629.8335\n",
       "1336   21  female  25.80         0     no  southwest   2007.9450\n",
       "1337   61  female  29.07         0    yes  northwest  29141.3603"
      ]
     },
     "execution_count": 3,
     "metadata": {},
     "output_type": "execute_result"
    }
   ],
   "source": [
    "df.tail()"
   ]
  },
  {
   "cell_type": "markdown",
   "metadata": {},
   "source": [
    "# Data Cleanup/Visualization"
   ]
  },
  {
   "cell_type": "code",
   "execution_count": 4,
   "metadata": {},
   "outputs": [
    {
     "data": {
      "text/plain": [
       "age           int64\n",
       "sex          object\n",
       "bmi         float64\n",
       "children      int64\n",
       "smoker       object\n",
       "region       object\n",
       "charges     float64\n",
       "dtype: object"
      ]
     },
     "execution_count": 4,
     "metadata": {},
     "output_type": "execute_result"
    }
   ],
   "source": [
    "df.dtypes"
   ]
  },
  {
   "cell_type": "code",
   "execution_count": 5,
   "metadata": {},
   "outputs": [
    {
     "data": {
      "text/plain": [
       "False"
      ]
     },
     "execution_count": 5,
     "metadata": {},
     "output_type": "execute_result"
    }
   ],
   "source": [
    "df.isnull().values.any() # check if any row is empty (NA)"
   ]
  },
  {
   "cell_type": "code",
   "execution_count": 6,
   "metadata": {},
   "outputs": [
    {
     "data": {
      "text/html": [
       "<div>\n",
       "<style scoped>\n",
       "    .dataframe tbody tr th:only-of-type {\n",
       "        vertical-align: middle;\n",
       "    }\n",
       "\n",
       "    .dataframe tbody tr th {\n",
       "        vertical-align: top;\n",
       "    }\n",
       "\n",
       "    .dataframe thead th {\n",
       "        text-align: right;\n",
       "    }\n",
       "</style>\n",
       "<table border=\"1\" class=\"dataframe\">\n",
       "  <thead>\n",
       "    <tr style=\"text-align: right;\">\n",
       "      <th></th>\n",
       "      <th>age</th>\n",
       "      <th>sex</th>\n",
       "      <th>bmi</th>\n",
       "      <th>children</th>\n",
       "      <th>smoker</th>\n",
       "      <th>region</th>\n",
       "      <th>charges</th>\n",
       "    </tr>\n",
       "  </thead>\n",
       "  <tbody>\n",
       "    <tr>\n",
       "      <td>195</td>\n",
       "      <td>19</td>\n",
       "      <td>male</td>\n",
       "      <td>30.59</td>\n",
       "      <td>0</td>\n",
       "      <td>no</td>\n",
       "      <td>northwest</td>\n",
       "      <td>1639.5631</td>\n",
       "    </tr>\n",
       "    <tr>\n",
       "      <td>581</td>\n",
       "      <td>19</td>\n",
       "      <td>male</td>\n",
       "      <td>30.59</td>\n",
       "      <td>0</td>\n",
       "      <td>no</td>\n",
       "      <td>northwest</td>\n",
       "      <td>1639.5631</td>\n",
       "    </tr>\n",
       "  </tbody>\n",
       "</table>\n",
       "</div>"
      ],
      "text/plain": [
       "     age   sex    bmi  children smoker     region    charges\n",
       "195   19  male  30.59         0     no  northwest  1639.5631\n",
       "581   19  male  30.59         0     no  northwest  1639.5631"
      ]
     },
     "execution_count": 6,
     "metadata": {},
     "output_type": "execute_result"
    }
   ],
   "source": [
    "df.loc[df.duplicated(keep=False),:] # check for duplicated rows # rows 195 and 581 are repeated"
   ]
  },
  {
   "cell_type": "code",
   "execution_count": 7,
   "metadata": {},
   "outputs": [
    {
     "data": {
      "text/plain": [
       "(1338, 7)"
      ]
     },
     "execution_count": 7,
     "metadata": {},
     "output_type": "execute_result"
    }
   ],
   "source": [
    "df.shape # array dimension before dropping duplicate"
   ]
  },
  {
   "cell_type": "code",
   "execution_count": 8,
   "metadata": {},
   "outputs": [],
   "source": [
    "df=df.drop_duplicates(keep='first') # drop the second duplicate,keep the first duplciate"
   ]
  },
  {
   "cell_type": "code",
   "execution_count": 9,
   "metadata": {},
   "outputs": [
    {
     "data": {
      "text/plain": [
       "(1337, 7)"
      ]
     },
     "execution_count": 9,
     "metadata": {},
     "output_type": "execute_result"
    }
   ],
   "source": [
    "df.shape # array dimension after dropping duplicate"
   ]
  },
  {
   "cell_type": "code",
   "execution_count": 10,
   "metadata": {},
   "outputs": [
    {
     "name": "stdout",
     "output_type": "stream",
     "text": [
      "['female' 'male']\n",
      "['yes' 'no']\n",
      "['southwest' 'southeast' 'northwest' 'northeast']\n"
     ]
    }
   ],
   "source": [
    "print(df.sex.unique()) # get unique values in these 3 columns for mapping\n",
    "print(df.smoker.unique())\n",
    "print(df.region.unique())"
   ]
  },
  {
   "cell_type": "code",
   "execution_count": 11,
   "metadata": {},
   "outputs": [],
   "source": [
    "cleanup_map={\"sex\":{\"female\":0,\"male\":1},\n",
    "             \"smoker\":{\"no\":0,\"yes\":1},\n",
    "             \"region\":{\"southwest\":1,\"southeast\":2,\"northwest\":3,\"northeast\":4}}\n",
    "df.replace(cleanup_map,inplace=True)"
   ]
  },
  {
   "cell_type": "code",
   "execution_count": 12,
   "metadata": {},
   "outputs": [
    {
     "data": {
      "text/html": [
       "<div>\n",
       "<style scoped>\n",
       "    .dataframe tbody tr th:only-of-type {\n",
       "        vertical-align: middle;\n",
       "    }\n",
       "\n",
       "    .dataframe tbody tr th {\n",
       "        vertical-align: top;\n",
       "    }\n",
       "\n",
       "    .dataframe thead th {\n",
       "        text-align: right;\n",
       "    }\n",
       "</style>\n",
       "<table border=\"1\" class=\"dataframe\">\n",
       "  <thead>\n",
       "    <tr style=\"text-align: right;\">\n",
       "      <th></th>\n",
       "      <th>age</th>\n",
       "      <th>sex</th>\n",
       "      <th>bmi</th>\n",
       "      <th>children</th>\n",
       "      <th>smoker</th>\n",
       "      <th>region</th>\n",
       "      <th>charges</th>\n",
       "    </tr>\n",
       "  </thead>\n",
       "  <tbody>\n",
       "    <tr>\n",
       "      <td>0</td>\n",
       "      <td>19</td>\n",
       "      <td>0</td>\n",
       "      <td>27.900</td>\n",
       "      <td>0</td>\n",
       "      <td>1</td>\n",
       "      <td>1</td>\n",
       "      <td>16884.92400</td>\n",
       "    </tr>\n",
       "    <tr>\n",
       "      <td>1</td>\n",
       "      <td>18</td>\n",
       "      <td>1</td>\n",
       "      <td>33.770</td>\n",
       "      <td>1</td>\n",
       "      <td>0</td>\n",
       "      <td>2</td>\n",
       "      <td>1725.55230</td>\n",
       "    </tr>\n",
       "    <tr>\n",
       "      <td>2</td>\n",
       "      <td>28</td>\n",
       "      <td>1</td>\n",
       "      <td>33.000</td>\n",
       "      <td>3</td>\n",
       "      <td>0</td>\n",
       "      <td>2</td>\n",
       "      <td>4449.46200</td>\n",
       "    </tr>\n",
       "    <tr>\n",
       "      <td>3</td>\n",
       "      <td>33</td>\n",
       "      <td>1</td>\n",
       "      <td>22.705</td>\n",
       "      <td>0</td>\n",
       "      <td>0</td>\n",
       "      <td>3</td>\n",
       "      <td>21984.47061</td>\n",
       "    </tr>\n",
       "    <tr>\n",
       "      <td>4</td>\n",
       "      <td>32</td>\n",
       "      <td>1</td>\n",
       "      <td>28.880</td>\n",
       "      <td>0</td>\n",
       "      <td>0</td>\n",
       "      <td>3</td>\n",
       "      <td>3866.85520</td>\n",
       "    </tr>\n",
       "  </tbody>\n",
       "</table>\n",
       "</div>"
      ],
      "text/plain": [
       "   age  sex     bmi  children  smoker  region      charges\n",
       "0   19    0  27.900         0       1       1  16884.92400\n",
       "1   18    1  33.770         1       0       2   1725.55230\n",
       "2   28    1  33.000         3       0       2   4449.46200\n",
       "3   33    1  22.705         0       0       3  21984.47061\n",
       "4   32    1  28.880         0       0       3   3866.85520"
      ]
     },
     "execution_count": 12,
     "metadata": {},
     "output_type": "execute_result"
    }
   ],
   "source": [
    "df.head()"
   ]
  },
  {
   "cell_type": "code",
   "execution_count": 13,
   "metadata": {},
   "outputs": [
    {
     "data": {
      "image/png": "[encoded data removed]",
      "text/plain": [
       "<Figure size 432x288 with 1 Axes>"
      ]
     },
     "metadata": {
      "needs_background": "light"
     },
     "output_type": "display_data"
    },
    {
     "data": {
      "image/png": "[encoded data removed]",
      "text/plain": [
       "<Figure size 432x288 with 1 Axes>"
      ]
     },
     "metadata": {
      "needs_background": "light"
     },
     "output_type": "display_data"
    },
    {
     "data": {
      "image/png": "[encoded data removed]",
      "text/plain": [
       "<Figure size 432x288 with 1 Axes>"
      ]
     },
     "metadata": {
      "needs_background": "light"
     },
     "output_type": "display_data"
    },
    {
     "data": {
      "image/png": "[encoded data removed]",
      "text/plain": [
       "<Figure size 432x288 with 1 Axes>"
      ]
     },
     "metadata": {
      "needs_background": "light"
     },
     "output_type": "display_data"
    },
    {
     "data": {
      "image/png": "[encoded data removed]",
      "text/plain": [
       "<Figure size 432x288 with 1 Axes>"
      ]
     },
     "metadata": {
      "needs_background": "light"
     },
     "output_type": "display_data"
    },
    {
     "data": {
      "image/png": "[encoded data removed]",
      "text/plain": [
       "<Figure size 432x288 with 1 Axes>"
      ]
     },
     "metadata": {
      "needs_background": "light"
     },
     "output_type": "display_data"
    }
   ],
   "source": [
    "plt.scatter(df['age'], df['charges'], color='red')\n",
    "plt.title('Insurance Charges Vs Age', fontsize=14)\n",
    "plt.xlabel('Age', fontsize=14)\n",
    "plt.ylabel('Insurance Charges', fontsize=14)\n",
    "plt.grid(True)\n",
    "plt.show()\n",
    "\n",
    "plt.scatter(df['sex'], df['charges'], color='black')\n",
    "plt.title('Insurance Charges Vs Gender', fontsize=14)\n",
    "plt.xlabel('Gender', fontsize=14)\n",
    "plt.ylabel('Insurance Charges', fontsize=14)\n",
    "plt.grid(True)\n",
    "plt.show()\n",
    "\n",
    "plt.scatter(df['bmi'], df['charges'], color='blue')\n",
    "plt.title('Insurance Charges Vs BMI', fontsize=14)\n",
    "plt.xlabel('BMI', fontsize=14)\n",
    "plt.ylabel('Insurance Charges', fontsize=14)\n",
    "plt.grid(True)\n",
    "plt.show()\n",
    "\n",
    "plt.scatter(df['children'], df['charges'], color='green')\n",
    "plt.title('Insurance Charges Vs Children', fontsize=14)\n",
    "plt.xlabel('Children', fontsize=14)\n",
    "plt.ylabel('Insurance Charges', fontsize=14)\n",
    "plt.grid(True)\n",
    "plt.show()\n",
    "\n",
    "plt.scatter(df['smoker'], df['charges'], color='brown')\n",
    "plt.title('Insurance Charges Vs Smoking Status', fontsize=14)\n",
    "plt.xlabel('Smoking Status', fontsize=14)\n",
    "plt.ylabel('Insurance Charges', fontsize=14)\n",
    "plt.grid(True)\n",
    "plt.show()\n",
    "\n",
    "plt.scatter(df['region'], df['charges'], color='black')\n",
    "plt.title('Insurance Charges Vs Region', fontsize=14)\n",
    "plt.xlabel('Region', fontsize=14)\n",
    "plt.ylabel('Insurance Charges', fontsize=14)\n",
    "plt.grid(True)\n",
    "plt.show()"
   ]
  },
  {
   "cell_type": "markdown",
   "metadata": {},
   "source": [
    "From scatter plots, age,number of children and smoking status have clear relationship with insurance charges. Perform multiple linear regression with these 3 variables."
   ]
  },
  {
   "cell_type": "code",
   "execution_count": 14,
   "metadata": {},
   "outputs": [],
   "source": [
    "from sklearn.model_selection import train_test_split\n",
    "from sklearn.linear_model import LinearRegression\n",
    "from sklearn.metrics import r2_score"
   ]
  },
  {
   "cell_type": "code",
   "execution_count": 15,
   "metadata": {},
   "outputs": [
    {
     "name": "stdout",
     "output_type": "stream",
     "text": [
      "      age  children  smoker\n",
      "1075   32         1       0\n",
      "131    61         0       0\n",
      "15     19         1       0\n",
      "825    64         2       0\n",
      "1137   26         0       0\n",
      "...   ...       ...     ...\n",
      "764    45         2       0\n",
      "836    36         0       0\n",
      "1217   29         2       0\n",
      "559    19         0       0\n",
      "685    53         2       0\n",
      "\n",
      "[1002 rows x 3 columns]\n",
      "\n",
      "      age  children  smoker\n",
      "1248   18         0       0\n",
      "610    47         1       0\n",
      "393    49         1       0\n",
      "503    19         0       1\n",
      "198    51         0       0\n",
      "...   ...       ...     ...\n",
      "824    60         0       0\n",
      "970    50         3       0\n",
      "1327   51         1       0\n",
      "793    53         0       1\n",
      "635    64         0       0\n",
      "\n",
      "[335 rows x 3 columns]\n",
      "\n",
      "1075     4562.84210\n",
      "131     13616.35860\n",
      "15       1837.23700\n",
      "825     16069.08475\n",
      "1137     3176.28770\n",
      "           ...     \n",
      "764      9095.06825\n",
      "836      4402.23300\n",
      "1217     4058.11610\n",
      "559      1646.42970\n",
      "685     11244.37690\n",
      "Name: charges, Length: 1002, dtype: float64\n",
      "\n",
      "1248     1633.9618\n",
      "610      8547.6913\n",
      "393      9290.1395\n",
      "503     32548.3405\n",
      "198      9644.2525\n",
      "           ...    \n",
      "824     12523.6048\n",
      "970     10702.6424\n",
      "1327     9377.9047\n",
      "793     21195.8180\n",
      "635     14410.9321\n",
      "Name: charges, Length: 335, dtype: float64\n"
     ]
    }
   ],
   "source": [
    "x=df[['age','children','smoker']]\n",
    "y=df.charges\n",
    "\n",
    "x_train,x_test,y_train, y_test = train_test_split(x, y, random_state=0)\n",
    "\n",
    "print(x_train)\n",
    "print()\n",
    "print(x_test)\n",
    "print()\n",
    "print(y_train)\n",
    "print()\n",
    "print(y_test)"
   ]
  },
  {
   "cell_type": "code",
   "execution_count": 16,
   "metadata": {},
   "outputs": [
    {
     "data": {
      "text/plain": [
       "LinearRegression(copy_X=True, fit_intercept=True, n_jobs=None, normalize=False)"
      ]
     },
     "execution_count": 16,
     "metadata": {},
     "output_type": "execute_result"
    }
   ],
   "source": [
    "linreg=LinearRegression()\n",
    "linreg.fit(x_train,y_train)"
   ]
  },
  {
   "cell_type": "code",
   "execution_count": 17,
   "metadata": {},
   "outputs": [
    {
     "name": "stdout",
     "output_type": "stream",
     "text": [
      "Coefficients:  [  257.94502948   473.70699605 23881.91018465]\n",
      "Intercept:  -2369.8188254075594\n"
     ]
    }
   ],
   "source": [
    "print(\"Coefficients: \",linreg.coef_)\n",
    "print(\"Intercept: \",linreg.intercept_)"
   ]
  },
  {
   "cell_type": "code",
   "execution_count": 18,
   "metadata": {},
   "outputs": [
    {
     "name": "stdout",
     "output_type": "stream",
     "text": [
      "[ 2273.19170526 10227.30455626 10743.19461523 26413.04691939\n",
      " 10785.37767814  4336.75194111]\n",
      "1248     1633.9618\n",
      "610      8547.6913\n",
      "393      9290.1395\n",
      "503     32548.3405\n",
      "198      9644.2525\n",
      "821      2680.9493\n",
      "Name: charges, dtype: float64\n"
     ]
    }
   ],
   "source": [
    "y_hat = linreg.predict(x_test)\n",
    "print(y_hat[0:6])\n",
    "print(y_test[0:6])"
   ]
  },
  {
   "cell_type": "markdown",
   "metadata": {},
   "source": [
    "# Try linear regression with statsmodel instead."
   ]
  },
  {
   "cell_type": "code",
   "execution_count": 19,
   "metadata": {},
   "outputs": [],
   "source": [
    "import statsmodels.api as sm"
   ]
  },
  {
   "cell_type": "code",
   "execution_count": 20,
   "metadata": {},
   "outputs": [
    {
     "name": "stdout",
     "output_type": "stream",
     "text": [
      "                            OLS Regression Results                            \n",
      "==============================================================================\n",
      "Dep. Variable:                charges   R-squared:                       0.728\n",
      "Model:                            OLS   Adj. R-squared:                  0.727\n",
      "Method:                 Least Squares   F-statistic:                     891.5\n",
      "Date:                Sat, 09 Nov 2019   Prob (F-statistic):          9.73e-282\n",
      "Time:                        15:43:40   Log-Likelihood:                -10174.\n",
      "No. Observations:                1002   AIC:                         2.036e+04\n",
      "Df Residuals:                     998   BIC:                         2.037e+04\n",
      "Df Model:                           3                                         \n",
      "Covariance Type:            nonrobust                                         \n",
      "==============================================================================\n",
      "                 coef    std err          t      P>|t|      [0.025      0.975]\n",
      "------------------------------------------------------------------------------\n",
      "const      -2369.8188    611.802     -3.874      0.000   -3570.384   -1169.254\n",
      "age          257.9450     13.951     18.490      0.000     230.569     285.321\n",
      "children     473.7070    161.557      2.932      0.003     156.677     790.737\n",
      "smoker      2.388e+04    491.449     48.595      0.000    2.29e+04    2.48e+04\n",
      "==============================================================================\n",
      "Omnibus:                      235.759   Durbin-Watson:                   2.033\n",
      "Prob(Omnibus):                  0.000   Jarque-Bera (JB):              688.789\n",
      "Skew:                           1.172   Prob(JB):                    2.70e-150\n",
      "Kurtosis:                       6.318   Cond. No.                         134.\n",
      "==============================================================================\n",
      "\n",
      "Warnings:\n",
      "[1] Standard Errors assume that the covariance matrix of the errors is correctly specified.\n"
     ]
    },
    {
     "name": "stderr",
     "output_type": "stream",
     "text": [
      "C:\\ProgramData\\Anaconda3\\lib\\site-packages\\numpy\\core\\fromnumeric.py:2389: FutureWarning: Method .ptp is deprecated and will be removed in a future version. Use numpy.ptp instead.\n",
      "  return ptp(axis=axis, out=out, **kwargs)\n"
     ]
    }
   ],
   "source": [
    "x_train = sm.add_constant(x_train) # add a constant\n",
    "model = sm.OLS(y_train, x_train).fit()\n",
    "print_model = model.summary()\n",
    "print(print_model)"
   ]
  },
  {
   "cell_type": "code",
   "execution_count": 21,
   "metadata": {},
   "outputs": [
    {
     "name": "stdout",
     "output_type": "stream",
     "text": [
      "1248     2273.191705\n",
      "610     10227.304556\n",
      "393     10743.194615\n",
      "503     26413.046919\n",
      "198     10785.377678\n",
      "821      4336.751941\n",
      "dtype: float64\n"
     ]
    }
   ],
   "source": [
    "x_test_sm = sm.add_constant(x_test)\n",
    "y_hat_sm = model.predict(x_test_sm) \n",
    "print(y_hat_sm[0:6])"
   ]
  },
  {
   "cell_type": "markdown",
   "metadata": {},
   "source": [
    "statsmodel gives the same regression model as sklearn.\n",
    "From statsmodel summary, the adjusted R2 is 0.727 indicating the regression model is a good fit. The p-values for the coefficients, age, number of children and smoking status are less than 0.05; indicating the 3 regression coefficients are highly significant."
   ]
  },
  {
   "cell_type": "markdown",
   "metadata": {},
   "source": [
    "# Train a multiple regression model with all 6 features"
   ]
  },
  {
   "cell_type": "code",
   "execution_count": 22,
   "metadata": {},
   "outputs": [
    {
     "name": "stdout",
     "output_type": "stream",
     "text": [
      "      age  sex     bmi  children  smoker  region\n",
      "1075   32    0  29.590         1       0       2\n",
      "131    61    0  22.040         0       0       4\n",
      "15     19    1  24.600         1       0       1\n",
      "825    64    0  31.825         2       0       4\n",
      "1137   26    0  22.230         0       0       3\n",
      "...   ...  ...     ...       ...     ...     ...\n",
      "764    45    0  25.175         2       0       4\n",
      "836    36    1  31.500         0       0       1\n",
      "1217   29    1  37.290         2       0       2\n",
      "559    19    1  35.530         0       0       3\n",
      "685    53    1  26.410         2       0       4\n",
      "\n",
      "[1002 rows x 6 columns]\n",
      "\n",
      "      age  sex    bmi  children  smoker  region\n",
      "1248   18    0  39.82         0       0       2\n",
      "610    47    0  29.37         1       0       2\n",
      "393    49    1  31.35         1       0       4\n",
      "503    19    1  30.25         0       1       2\n",
      "198    51    0  18.05         0       0       3\n",
      "...   ...  ...    ...       ...     ...     ...\n",
      "824    60    1  24.32         0       0       3\n",
      "970    50    0  28.16         3       0       2\n",
      "1327   51    1  30.03         1       0       2\n",
      "793    53    1  20.90         0       1       2\n",
      "635    64    1  38.19         0       0       4\n",
      "\n",
      "[335 rows x 6 columns]\n",
      "\n",
      "1075     4562.84210\n",
      "131     13616.35860\n",
      "15       1837.23700\n",
      "825     16069.08475\n",
      "1137     3176.28770\n",
      "           ...     \n",
      "764      9095.06825\n",
      "836      4402.23300\n",
      "1217     4058.11610\n",
      "559      1646.42970\n",
      "685     11244.37690\n",
      "Name: charges, Length: 1002, dtype: float64\n",
      "\n",
      "1248     1633.9618\n",
      "610      8547.6913\n",
      "393      9290.1395\n",
      "503     32548.3405\n",
      "198      9644.2525\n",
      "           ...    \n",
      "824     12523.6048\n",
      "970     10702.6424\n",
      "1327     9377.9047\n",
      "793     21195.8180\n",
      "635     14410.9321\n",
      "Name: charges, Length: 335, dtype: float64\n"
     ]
    }
   ],
   "source": [
    "x6=df[['age','sex','bmi','children','smoker','region']]\n",
    "y6=df.charges\n",
    "\n",
    "x6_train,x6_test,y6_train, y6_test = train_test_split(x6, y6, random_state=0)\n",
    "\n",
    "print(x6_train)\n",
    "print()\n",
    "print(x6_test)\n",
    "print()\n",
    "print(y6_train)\n",
    "print()\n",
    "print(y6_test)"
   ]
  },
  {
   "cell_type": "code",
   "execution_count": 23,
   "metadata": {},
   "outputs": [
    {
     "name": "stdout",
     "output_type": "stream",
     "text": [
      "                            OLS Regression Results                            \n",
      "==============================================================================\n",
      "Dep. Variable:                charges   R-squared:                       0.752\n",
      "Model:                            OLS   Adj. R-squared:                  0.750\n",
      "Method:                 Least Squares   F-statistic:                     502.2\n",
      "Date:                Sat, 09 Nov 2019   Prob (F-statistic):          6.38e-297\n",
      "Time:                        15:43:40   Log-Likelihood:                -10128.\n",
      "No. Observations:                1002   AIC:                         2.027e+04\n",
      "Df Residuals:                     995   BIC:                         2.030e+04\n",
      "Df Model:                           6                                         \n",
      "Covariance Type:            nonrobust                                         \n",
      "==============================================================================\n",
      "                 coef    std err          t      P>|t|      [0.025      0.975]\n",
      "------------------------------------------------------------------------------\n",
      "const      -1.221e+04   1226.094     -9.959      0.000   -1.46e+04   -9804.973\n",
      "age          244.4329     13.432     18.198      0.000     218.075     270.791\n",
      "sex           27.0954    377.685      0.072      0.943    -714.056     768.247\n",
      "bmi          303.2148     31.377      9.663      0.000     241.641     364.788\n",
      "children     484.9719    154.729      3.134      0.002     181.339     788.605\n",
      "smoker      2.392e+04    471.246     50.764      0.000     2.3e+04    2.48e+04\n",
      "region       402.1915    172.370      2.333      0.020      63.942     740.441\n",
      "==============================================================================\n",
      "Omnibus:                      257.398   Durbin-Watson:                   2.027\n",
      "Prob(Omnibus):                  0.000   Jarque-Bera (JB):              729.454\n",
      "Skew:                           1.293   Prob(JB):                    3.99e-159\n",
      "Kurtosis:                       6.285   Cond. No.                         336.\n",
      "==============================================================================\n",
      "\n",
      "Warnings:\n",
      "[1] Standard Errors assume that the covariance matrix of the errors is correctly specified.\n"
     ]
    }
   ],
   "source": [
    "x6_train = sm.add_constant(x6_train) # add a constant\n",
    "model6 = sm.OLS(y6_train, x6_train).fit()\n",
    "print_model6 = model6.summary()\n",
    "print(print_model6)"
   ]
  },
  {
   "cell_type": "code",
   "execution_count": 24,
   "metadata": {},
   "outputs": [
    {
     "name": "stdout",
     "output_type": "stream",
     "text": [
      "1248     5067.186985\n",
      "610      9472.117810\n",
      "393     11392.827113\n",
      "503     26359.093584\n",
      "198      6934.677559\n",
      "821       735.729391\n",
      "dtype: float64\n",
      "1248     1633.9618\n",
      "610      8547.6913\n",
      "393      9290.1395\n",
      "503     32548.3405\n",
      "198      9644.2525\n",
      "821      2680.9493\n",
      "Name: charges, dtype: float64\n"
     ]
    }
   ],
   "source": [
    "x6_test_sm = sm.add_constant(x6_test)\n",
    "y6_hat_sm = model6.predict(x6_test_sm) \n",
    "print(y6_hat_sm[0:6])\n",
    "print(y6_test[0:6])"
   ]
  },
  {
   "cell_type": "markdown",
   "metadata": {},
   "source": [
    "Building the regression model with all 6 features, the adjusted R2 is improved only marginally from 0.727 from 0.750. It can be seen that sex is not a significant predictor of insurance premium with p value more than 0.05. The other 5 coefficients are significant with p-values less than 0.05. As a whole, the model is significant with prob (F-statistic) being extremely small (p-value (F-stat) << 0.001). As p-value (F-stat) decreases from 9.73e-282 to 6.38e-297 with the addition of features, we can conclude that the model with 6 features is an improvement compared to the previous model with 3 features."
   ]
  },
  {
   "cell_type": "markdown",
   "metadata": {},
   "source": [
    "# Building a model with 5 features: age,bmi,children,smoker,region"
   ]
  },
  {
   "cell_type": "code",
   "execution_count": 25,
   "metadata": {},
   "outputs": [
    {
     "name": "stdout",
     "output_type": "stream",
     "text": [
      "      age     bmi  children  smoker  region\n",
      "1075   32  29.590         1       0       2\n",
      "131    61  22.040         0       0       4\n",
      "15     19  24.600         1       0       1\n",
      "825    64  31.825         2       0       4\n",
      "1137   26  22.230         0       0       3\n",
      "...   ...     ...       ...     ...     ...\n",
      "764    45  25.175         2       0       4\n",
      "836    36  31.500         0       0       1\n",
      "1217   29  37.290         2       0       2\n",
      "559    19  35.530         0       0       3\n",
      "685    53  26.410         2       0       4\n",
      "\n",
      "[1002 rows x 5 columns]\n",
      "\n",
      "      age    bmi  children  smoker  region\n",
      "1248   18  39.82         0       0       2\n",
      "610    47  29.37         1       0       2\n",
      "393    49  31.35         1       0       4\n",
      "503    19  30.25         0       1       2\n",
      "198    51  18.05         0       0       3\n",
      "...   ...    ...       ...     ...     ...\n",
      "824    60  24.32         0       0       3\n",
      "970    50  28.16         3       0       2\n",
      "1327   51  30.03         1       0       2\n",
      "793    53  20.90         0       1       2\n",
      "635    64  38.19         0       0       4\n",
      "\n",
      "[335 rows x 5 columns]\n",
      "\n",
      "1075     4562.84210\n",
      "131     13616.35860\n",
      "15       1837.23700\n",
      "825     16069.08475\n",
      "1137     3176.28770\n",
      "           ...     \n",
      "764      9095.06825\n",
      "836      4402.23300\n",
      "1217     4058.11610\n",
      "559      1646.42970\n",
      "685     11244.37690\n",
      "Name: charges, Length: 1002, dtype: float64\n",
      "\n",
      "1248     1633.9618\n",
      "610      8547.6913\n",
      "393      9290.1395\n",
      "503     32548.3405\n",
      "198      9644.2525\n",
      "           ...    \n",
      "824     12523.6048\n",
      "970     10702.6424\n",
      "1327     9377.9047\n",
      "793     21195.8180\n",
      "635     14410.9321\n",
      "Name: charges, Length: 335, dtype: float64\n"
     ]
    }
   ],
   "source": [
    "x5=df[['age','bmi','children','smoker','region']]\n",
    "y5=df.charges\n",
    "\n",
    "x5_train,x5_test,y5_train, y5_test = train_test_split(x5, y5, random_state=0)\n",
    "\n",
    "print(x5_train)\n",
    "print()\n",
    "print(x5_test)\n",
    "print()\n",
    "print(y5_train)\n",
    "print()\n",
    "print(y5_test)"
   ]
  },
  {
   "cell_type": "code",
   "execution_count": 26,
   "metadata": {},
   "outputs": [
    {
     "name": "stdout",
     "output_type": "stream",
     "text": [
      "Time taken to train model:  0.0009968280792236328  sec\n",
      "\n",
      "                            OLS Regression Results                            \n",
      "==============================================================================\n",
      "Dep. Variable:                charges   R-squared:                       0.752\n",
      "Model:                            OLS   Adj. R-squared:                  0.751\n",
      "Method:                 Least Squares   F-statistic:                     603.2\n",
      "Date:                Sat, 09 Nov 2019   Prob (F-statistic):          2.48e-298\n",
      "Time:                        15:43:41   Log-Likelihood:                -10128.\n",
      "No. Observations:                1002   AIC:                         2.027e+04\n",
      "Df Residuals:                     996   BIC:                         2.030e+04\n",
      "Df Model:                           5                                         \n",
      "Covariance Type:            nonrobust                                         \n",
      "==============================================================================\n",
      "                 coef    std err          t      P>|t|      [0.025      0.975]\n",
      "------------------------------------------------------------------------------\n",
      "const       -1.22e+04   1216.770    -10.027      0.000   -1.46e+04   -9812.803\n",
      "age          244.4061     13.420     18.212      0.000     218.072     270.741\n",
      "bmi          303.2984     31.340      9.678      0.000     241.798     364.799\n",
      "children     485.2741    154.595      3.139      0.002     181.906     788.643\n",
      "smoker      2.392e+04    470.266     50.873      0.000     2.3e+04    2.48e+04\n",
      "region       402.4789    172.237      2.337      0.020      64.490     740.468\n",
      "==============================================================================\n",
      "Omnibus:                      257.399   Durbin-Watson:                   2.027\n",
      "Prob(Omnibus):                  0.000   Jarque-Bera (JB):              729.388\n",
      "Skew:                           1.293   Prob(JB):                    4.13e-159\n",
      "Kurtosis:                       6.284   Cond. No.                         334.\n",
      "==============================================================================\n",
      "\n",
      "Warnings:\n",
      "[1] Standard Errors assume that the covariance matrix of the errors is correctly specified.\n"
     ]
    }
   ],
   "source": [
    "x5_train = sm.add_constant(x5_train)# add a constant\n",
    "\n",
    "#start time of fitting\n",
    "start_time=time.time()\n",
    "model5 = sm.OLS(y5_train, x5_train).fit()\n",
    "\n",
    "#end time of fitting\n",
    "elapsed_time=time.time()-start_time\n",
    "\n",
    "print(\"Time taken to train model: \",elapsed_time,\" sec\")\n",
    "print()\n",
    "print_model5 = model5.summary()\n",
    "print(print_model5)"
   ]
  },
  {
   "cell_type": "code",
   "execution_count": 27,
   "metadata": {},
   "outputs": [
    {
     "name": "stdout",
     "output_type": "stream",
     "text": [
      "1248     5081.076600\n",
      "610      9484.658750\n",
      "393     11378.959341\n",
      "503     26346.961395\n",
      "198      6946.150439\n",
      "821       720.745427\n",
      "dtype: float64\n",
      "1248     1633.9618\n",
      "610      8547.6913\n",
      "393      9290.1395\n",
      "503     32548.3405\n",
      "198      9644.2525\n",
      "821      2680.9493\n",
      "Name: charges, dtype: float64\n"
     ]
    }
   ],
   "source": [
    "x5_test_sm = sm.add_constant(x5_test)\n",
    "y5_hat_sm = model5.predict(x5_test_sm) \n",
    "print(y5_hat_sm[0:6])\n",
    "print(y5_test[0:6])"
   ]
  },
  {
   "cell_type": "markdown",
   "metadata": {},
   "source": [
    "Building the regression model with 5 features while removing gender, the adjusted R2 is improved very slightly from 0.750 from 0.751. All the 5 coefficients are significant with p-values less than 0.05. As a whole, the model is significant with prob (F-statistic) being extremely small (p-value (F-stat) << 0.001). As p-value (F-stat) decreases even further from 6.38e-297 to  2.48e-298 with the removal of gender, we can conclude that the model with 5 features is the most appropriate given the dataset."
   ]
  },
  {
   "cell_type": "markdown",
   "metadata": {},
   "source": [
    "In conclusion, 5 attributes (age, BMI, number of children, smoking habit and region) influence insurance claim amounts significantly. All 5 attributes have positive correlations with insurance claim amounts as seen by their positive regression coefficients. \n",
    "\n",
    "As expected,people who are aging and with higher BMI are submit higher insurance claims as additional health risks are associated with them. People with a high BMI can suffer from, or develop, diseases including diabetes, sleep apnea, and heart and joint problems while aging people people have greater diagnosed and undiagnosed health conditions than younger people, and are more likely to develop health problems. \n",
    "\n",
    "People with more children (dependents) are also filing for higher insurance claims as they require greater coverage. Smoking increases the quantum of insurance claims the most significantly as can be seen by it's large coefficient (2.392e+04). Some studies have reported that former tobacco users will always have a higher risk of cancer and other ailments, even if they never use tobacco again. \n",
    "\n",
    "People who live in the same area tend to have similar risk profiles. For example, unfriendly climate, a cultural aversion to exercise, or a lack of healthy food options in an area tend drive up insurance claims.\n",
    "(Source: https://www.moneycrashers.com/factors-health-insurance-premium-costs/)\n",
    "\n",
    "Surprisingly, gender does not significantly affect insurance claims. This may be attributed to the fact that the dataset only covers insurance claims filed by people up to age 64. People after the age of 65, especially women,tend to require greater help with daily need (Source: https://www.forbes.com/sites/nextavenue/2017/01/10/7-ways-women-can-cut-the-cost-of-long-term-care-insurance/#76b10c925ebb). Hence, the dataset does not capture these future claims.\n",
    "\n"
   ]
  },
  {
   "cell_type": "code",
   "execution_count": 32,
   "metadata": {},
   "outputs": [
    {
     "data": {
      "text/plain": [
       "40857189.91237021"
      ]
     },
     "execution_count": 32,
     "metadata": {},
     "output_type": "execute_result"
    }
   ],
   "source": [
    "from sklearn.metrics import mean_squared_error\n",
    "from math import sqrt\n",
    "\n",
    "mse=mean_squared_error(y5_test, y5_hat_sm)\n",
    "mse"
   ]
  },
  {
   "cell_type": "code",
   "execution_count": 33,
   "metadata": {},
   "outputs": [
    {
     "data": {
      "text/plain": [
       "6391.962915440781"
      ]
     },
     "execution_count": 33,
     "metadata": {},
     "output_type": "execute_result"
    }
   ],
   "source": [
    "rms = sqrt(mean_squared_error(y5_test, y5_hat_sm))\n",
    "rms"
   ]
  },
  {
   "cell_type": "code",
   "execution_count": null,
   "metadata": {},
   "outputs": [],
   "source": []
  }
 ],
 "metadata": {
  "kernelspec": {
   "display_name": "Python 3",
   "language": "python",
   "name": "python3"
  },
  "language_info": {
   "codemirror_mode": {
    "name": "ipython",
    "version": 3
   },
   "file_extension": ".py",
   "mimetype": "text/x-python",
   "name": "python",
   "nbconvert_exporter": "python",
   "pygments_lexer": "ipython3",
   "version": "3.7.5"
  }
 },
 "nbformat": 4,
 "nbformat_minor": 2
}
