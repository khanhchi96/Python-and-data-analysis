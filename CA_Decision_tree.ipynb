{
 "cells": [
  {
   "cell_type": "code",
   "execution_count": 1,
   "metadata": {},
   "outputs": [],
   "source": [
    "import pandas as pd\n",
    "import numpy as np\n",
    "import matplotlib.pyplot as plt\n",
    "import sklearn\n",
    "import time"
   ]
  },
  {
   "cell_type": "code",
   "execution_count": 2,
   "metadata": {},
   "outputs": [
    {
     "data": {
      "text/html": [
       "<div>\n",
       "<style scoped>\n",
       "    .dataframe tbody tr th:only-of-type {\n",
       "        vertical-align: middle;\n",
       "    }\n",
       "\n",
       "    .dataframe tbody tr th {\n",
       "        vertical-align: top;\n",
       "    }\n",
       "\n",
       "    .dataframe thead th {\n",
       "        text-align: right;\n",
       "    }\n",
       "</style>\n",
       "<table border=\"1\" class=\"dataframe\">\n",
       "  <thead>\n",
       "    <tr style=\"text-align: right;\">\n",
       "      <th></th>\n",
       "      <th>mean_radius</th>\n",
       "      <th>mean_texture</th>\n",
       "      <th>mean_perimeter</th>\n",
       "      <th>mean_area</th>\n",
       "      <th>mean_smoothness</th>\n",
       "      <th>diagnosis</th>\n",
       "    </tr>\n",
       "  </thead>\n",
       "  <tbody>\n",
       "    <tr>\n",
       "      <td>0</td>\n",
       "      <td>17.99</td>\n",
       "      <td>10.38</td>\n",
       "      <td>122.80</td>\n",
       "      <td>1001.0</td>\n",
       "      <td>0.11840</td>\n",
       "      <td>0</td>\n",
       "    </tr>\n",
       "    <tr>\n",
       "      <td>1</td>\n",
       "      <td>20.57</td>\n",
       "      <td>17.77</td>\n",
       "      <td>132.90</td>\n",
       "      <td>1326.0</td>\n",
       "      <td>0.08474</td>\n",
       "      <td>0</td>\n",
       "    </tr>\n",
       "    <tr>\n",
       "      <td>2</td>\n",
       "      <td>19.69</td>\n",
       "      <td>21.25</td>\n",
       "      <td>130.00</td>\n",
       "      <td>1203.0</td>\n",
       "      <td>0.10960</td>\n",
       "      <td>0</td>\n",
       "    </tr>\n",
       "    <tr>\n",
       "      <td>3</td>\n",
       "      <td>11.42</td>\n",
       "      <td>20.38</td>\n",
       "      <td>77.58</td>\n",
       "      <td>386.1</td>\n",
       "      <td>0.14250</td>\n",
       "      <td>0</td>\n",
       "    </tr>\n",
       "    <tr>\n",
       "      <td>4</td>\n",
       "      <td>20.29</td>\n",
       "      <td>14.34</td>\n",
       "      <td>135.10</td>\n",
       "      <td>1297.0</td>\n",
       "      <td>0.10030</td>\n",
       "      <td>0</td>\n",
       "    </tr>\n",
       "  </tbody>\n",
       "</table>\n",
       "</div>"
      ],
      "text/plain": [
       "   mean_radius  mean_texture  mean_perimeter  mean_area  mean_smoothness  \\\n",
       "0        17.99         10.38          122.80     1001.0          0.11840   \n",
       "1        20.57         17.77          132.90     1326.0          0.08474   \n",
       "2        19.69         21.25          130.00     1203.0          0.10960   \n",
       "3        11.42         20.38           77.58      386.1          0.14250   \n",
       "4        20.29         14.34          135.10     1297.0          0.10030   \n",
       "\n",
       "   diagnosis  \n",
       "0          0  \n",
       "1          0  \n",
       "2          0  \n",
       "3          0  \n",
       "4          0  "
      ]
     },
     "execution_count": 2,
     "metadata": {},
     "output_type": "execute_result"
    }
   ],
   "source": [
    "df = pd.read_csv('Breast_cancer_data.csv')\n",
    "df.head()"
   ]
  },
  {
   "cell_type": "code",
   "execution_count": 3,
   "metadata": {},
   "outputs": [
    {
     "data": {
      "text/plain": [
       "1    357\n",
       "0    212\n",
       "Name: diagnosis, dtype: int64"
      ]
     },
     "execution_count": 3,
     "metadata": {},
     "output_type": "execute_result"
    }
   ],
   "source": [
    "df['diagnosis'].value_counts()"
   ]
  },
  {
   "cell_type": "code",
   "execution_count": 4,
   "metadata": {},
   "outputs": [],
   "source": [
    "data = df[['mean_radius', 'mean_texture', 'mean_perimeter', 'mean_area', 'mean_smoothness']]\n",
    "target = df['diagnosis']"
   ]
  },
  {
   "cell_type": "code",
   "execution_count": 5,
   "metadata": {},
   "outputs": [],
   "source": [
    "from sklearn.model_selection import train_test_split\n",
    "\n",
    "x_train, x_test, y_train, y_test = train_test_split(data, target, random_state = 1)"
   ]
  },
  {
   "cell_type": "markdown",
   "metadata": {},
   "source": [
    "Using cross validation to find an accurary to reference and compare later"
   ]
  },
  {
   "cell_type": "code",
   "execution_count": 6,
   "metadata": {},
   "outputs": [],
   "source": [
    "from sklearn.model_selection import KFold\n",
    "from sklearn.model_selection import cross_val_score\n",
    "k_fold = KFold(n_splits=10, shuffle=True, random_state=0)"
   ]
  },
  {
   "cell_type": "code",
   "execution_count": 7,
   "metadata": {},
   "outputs": [],
   "source": [
    "from sklearn.neighbors import KNeighborsClassifier\n",
    "from sklearn.tree import DecisionTreeClassifier"
   ]
  },
  {
   "cell_type": "code",
   "execution_count": 8,
   "metadata": {},
   "outputs": [
    {
     "name": "stdout",
     "output_type": "stream",
     "text": [
      "[0.81395349 0.90697674 0.90697674 0.90697674 0.88372093 0.95348837\n",
      " 0.85714286 0.92857143 0.92857143 0.83333333]\n"
     ]
    }
   ],
   "source": [
    "clf = KNeighborsClassifier(n_neighbors = 13)\n",
    "scoring = 'accuracy'\n",
    "score = cross_val_score(clf, x_train, y_train, cv=k_fold, n_jobs=1, scoring=scoring)\n",
    "print(score)"
   ]
  },
  {
   "cell_type": "code",
   "execution_count": 9,
   "metadata": {},
   "outputs": [
    {
     "data": {
      "text/plain": [
       "89.2"
      ]
     },
     "execution_count": 9,
     "metadata": {},
     "output_type": "execute_result"
    }
   ],
   "source": [
    "round(np.mean(score)*100, 2)"
   ]
  },
  {
   "cell_type": "markdown",
   "metadata": {},
   "source": [
    "The accuracy found through cross validation using KNN method is 89.2"
   ]
  },
  {
   "cell_type": "code",
   "execution_count": 10,
   "metadata": {},
   "outputs": [
    {
     "name": "stdout",
     "output_type": "stream",
     "text": [
      "[0.88372093 0.90697674 0.93023256 0.97674419 0.93023256 0.90697674\n",
      " 0.85714286 0.92857143 0.92857143 0.78571429]\n"
     ]
    }
   ],
   "source": [
    "clf = DecisionTreeClassifier(random_state = 42)\n",
    "scoring = 'accuracy'\n",
    "score = cross_val_score(clf, x_train, y_train, cv=k_fold, n_jobs=1, scoring=scoring)\n",
    "print(score)"
   ]
  },
  {
   "cell_type": "code",
   "execution_count": 11,
   "metadata": {},
   "outputs": [
    {
     "data": {
      "text/plain": [
       "90.35"
      ]
     },
     "execution_count": 11,
     "metadata": {},
     "output_type": "execute_result"
    }
   ],
   "source": [
    "round(np.mean(score)*100, 2)"
   ]
  },
  {
   "cell_type": "markdown",
   "metadata": {},
   "source": [
    "The accuracy found through cross validation using Decision Tree method is 90.35"
   ]
  },
  {
   "cell_type": "markdown",
   "metadata": {},
   "source": [
    "# Decision Tree model"
   ]
  },
  {
   "cell_type": "code",
   "execution_count": 12,
   "metadata": {},
   "outputs": [
    {
     "name": "stdout",
     "output_type": "stream",
     "text": [
      "Training time: 0.003989458084106445\n"
     ]
    },
    {
     "data": {
      "text/plain": [
       "DecisionTreeClassifier(class_weight=None, criterion='gini', max_depth=None,\n",
       "                       max_features=None, max_leaf_nodes=None,\n",
       "                       min_impurity_decrease=0.0, min_impurity_split=None,\n",
       "                       min_samples_leaf=1, min_samples_split=2,\n",
       "                       min_weight_fraction_leaf=0.0, presort=False,\n",
       "                       random_state=42, splitter='best')"
      ]
     },
     "execution_count": 12,
     "metadata": {},
     "output_type": "execute_result"
    }
   ],
   "source": [
    "from sklearn.tree import DecisionTreeClassifier\n",
    "dt = DecisionTreeClassifier(random_state = 42) \n",
    "time_0 = time.time()\n",
    "dt.fit(x_train, y_train)\n",
    "print('Training time: {0}'.format(time.time() - time_0))\n",
    "dt"
   ]
  },
  {
   "cell_type": "code",
   "execution_count": 13,
   "metadata": {},
   "outputs": [],
   "source": [
    "y_pred = dt.predict(x_test)"
   ]
  },
  {
   "cell_type": "code",
   "execution_count": 14,
   "metadata": {},
   "outputs": [
    {
     "data": {
      "text/plain": [
       "87.41"
      ]
     },
     "execution_count": 14,
     "metadata": {},
     "output_type": "execute_result"
    }
   ],
   "source": [
    "from sklearn.metrics import accuracy_score\n",
    "round(accuracy_score(y_test, y_pred) * 100, 2)"
   ]
  },
  {
   "cell_type": "markdown",
   "metadata": {},
   "source": [
    "The accuracy of the model is 87.41"
   ]
  },
  {
   "cell_type": "markdown",
   "metadata": {},
   "source": [
    "<b>Adjusting hyperparameters to achieve better accuracy</b>"
   ]
  },
  {
   "cell_type": "code",
   "execution_count": 15,
   "metadata": {},
   "outputs": [],
   "source": [
    "def decTreeScore2(crit = 'gini',  maxDepth = None, minSamples = 1, minSplit = 2, maxLeafNodes = None):\n",
    "    dect = DecisionTreeClassifier(criterion = crit, max_depth = maxDepth, \n",
    "                                  min_samples_leaf = minSamples, min_samples_split = minSplit, \n",
    "                                  max_leaf_nodes = maxLeafNodes, random_state= 42)\n",
    "    dect.fit(x_train, y_train)\n",
    "    accuracy = accuracy_score(y_test, dect.predict(x_test))\n",
    "    print (round(accuracy * 100,2))\n",
    "    return round(accuracy * 100, 2)"
   ]
  },
  {
   "cell_type": "code",
   "execution_count": 16,
   "metadata": {},
   "outputs": [
    {
     "name": "stdout",
     "output_type": "stream",
     "text": [
      "87.41\n"
     ]
    },
    {
     "data": {
      "text/plain": [
       "87.41"
      ]
     },
     "execution_count": 16,
     "metadata": {},
     "output_type": "execute_result"
    }
   ],
   "source": [
    "decTreeScore2(crit = 'entropy')"
   ]
  },
  {
   "cell_type": "markdown",
   "metadata": {},
   "source": [
    "Model using 'entropy' crit has the higher accuracy compared to that using 'gini' crit"
   ]
  },
  {
   "cell_type": "code",
   "execution_count": 17,
   "metadata": {},
   "outputs": [
    {
     "name": "stdout",
     "output_type": "stream",
     "text": [
      "1\n",
      "86.01\n",
      "2\n",
      "83.92\n",
      "3\n",
      "86.01\n",
      "4\n",
      "88.81\n",
      "5\n",
      "87.41\n",
      "6\n",
      "88.81\n",
      "7\n",
      "86.71\n",
      "8\n",
      "87.41\n",
      "9\n",
      "87.41\n",
      "10\n",
      "87.41\n",
      "11\n",
      "87.41\n",
      "12\n",
      "87.41\n",
      "13\n",
      "87.41\n",
      "14\n",
      "87.41\n",
      "15\n",
      "87.41\n",
      "16\n",
      "87.41\n",
      "17\n",
      "87.41\n",
      "18\n",
      "87.41\n",
      "19\n",
      "87.41\n"
     ]
    }
   ],
   "source": [
    "for i in np.arange(1, 20, 1):\n",
    "    print(i) \n",
    "    decTreeScore2(maxDepth = i)"
   ]
  },
  {
   "cell_type": "markdown",
   "metadata": {},
   "source": [
    "Max-depth = 4 or 6 give the highest accuracy which is equal to the accuracy of the model using default max_depth = None"
   ]
  },
  {
   "cell_type": "code",
   "execution_count": 18,
   "metadata": {},
   "outputs": [
    {
     "name": "stdout",
     "output_type": "stream",
     "text": [
      "1\n",
      "87.41\n",
      "2\n",
      "88.11\n",
      "3\n",
      "88.11\n",
      "4\n",
      "88.81\n",
      "5\n",
      "86.01\n",
      "6\n",
      "86.01\n",
      "7\n",
      "86.01\n",
      "8\n",
      "83.92\n",
      "9\n",
      "83.92\n",
      "10\n",
      "85.31\n",
      "11\n",
      "85.31\n",
      "12\n",
      "85.31\n",
      "13\n",
      "85.31\n",
      "14\n",
      "85.31\n",
      "15\n",
      "85.31\n",
      "16\n",
      "85.31\n",
      "17\n",
      "85.31\n",
      "18\n",
      "85.31\n",
      "19\n",
      "86.01\n"
     ]
    }
   ],
   "source": [
    "for i in np.arange(1, 20, 1):\n",
    "    print(i)\n",
    "    decTreeScore2(minSamples = i)"
   ]
  },
  {
   "cell_type": "markdown",
   "metadata": {},
   "source": [
    "min_samples_leaf = 2, 3 or 4 give the highest accuracy"
   ]
  },
  {
   "cell_type": "code",
   "execution_count": 19,
   "metadata": {},
   "outputs": [
    {
     "name": "stdout",
     "output_type": "stream",
     "text": [
      "2\n",
      "87.41\n",
      "3\n",
      "88.81\n",
      "4\n",
      "88.81\n",
      "5\n",
      "91.61\n",
      "6\n",
      "91.61\n",
      "7\n",
      "90.91\n",
      "8\n",
      "91.61\n",
      "9\n",
      "90.91\n",
      "10\n",
      "88.81\n",
      "11\n",
      "89.51\n",
      "12\n",
      "88.81\n",
      "13\n",
      "88.81\n",
      "14\n",
      "88.81\n",
      "15\n",
      "88.81\n",
      "16\n",
      "88.81\n",
      "17\n",
      "88.81\n",
      "18\n",
      "88.81\n",
      "19\n",
      "88.81\n",
      "20\n",
      "88.81\n",
      "21\n",
      "88.81\n",
      "22\n",
      "88.11\n",
      "23\n",
      "84.62\n",
      "24\n",
      "84.62\n",
      "25\n",
      "84.62\n",
      "26\n",
      "83.22\n",
      "27\n",
      "83.22\n",
      "28\n",
      "83.22\n",
      "29\n",
      "83.22\n"
     ]
    }
   ],
   "source": [
    "for i in np.arange(2, 30,1):\n",
    "    print(i)\n",
    "    decTreeScore2(minSplit = i)"
   ]
  },
  {
   "cell_type": "markdown",
   "metadata": {},
   "source": [
    "min_samples_splits = 5, 6 or 8 gives the highest accuracy"
   ]
  },
  {
   "cell_type": "code",
   "execution_count": 20,
   "metadata": {},
   "outputs": [
    {
     "name": "stdout",
     "output_type": "stream",
     "text": [
      "2\n",
      "86.01\n",
      "3\n",
      "86.01\n",
      "4\n",
      "86.01\n",
      "5\n",
      "83.92\n",
      "6\n",
      "84.62\n",
      "7\n",
      "88.11\n",
      "8\n",
      "88.11\n",
      "9\n",
      "87.41\n",
      "10\n",
      "88.11\n",
      "11\n",
      "88.11\n",
      "12\n",
      "88.81\n",
      "13\n",
      "88.81\n",
      "14\n",
      "90.91\n",
      "15\n",
      "90.21\n",
      "16\n",
      "90.21\n",
      "17\n",
      "88.11\n",
      "18\n",
      "88.11\n",
      "19\n",
      "88.11\n"
     ]
    }
   ],
   "source": [
    "for i in np.arange(2, 20,1):\n",
    "    print(i)\n",
    "    decTreeScore2(maxLeafNodes = i)"
   ]
  },
  {
   "cell_type": "markdown",
   "metadata": {},
   "source": [
    "max_leaf_nodes = 14, 15 or 16 give the highest accuracy"
   ]
  },
  {
   "cell_type": "code",
   "execution_count": 21,
   "metadata": {},
   "outputs": [
    {
     "data": {
      "text/plain": [
       "91.61"
      ]
     },
     "execution_count": 21,
     "metadata": {},
     "output_type": "execute_result"
    }
   ],
   "source": [
    "dt2 = DecisionTreeClassifier(min_samples_split = 5, random_state = 42)\n",
    "dt2.fit(x_train, y_train)\n",
    "y_pred_2 = dt2.predict(x_test)\n",
    "round(accuracy_score(y_test, y_pred_2) * 100, 2)"
   ]
  },
  {
   "cell_type": "code",
   "execution_count": 22,
   "metadata": {},
   "outputs": [
    {
     "name": "stdout",
     "output_type": "stream",
     "text": [
      "91.61\n"
     ]
    },
    {
     "data": {
      "text/plain": [
       "91.61"
      ]
     },
     "execution_count": 22,
     "metadata": {},
     "output_type": "execute_result"
    }
   ],
   "source": [
    "decTreeScore2(minSplit = 5)"
   ]
  },
  {
   "cell_type": "markdown",
   "metadata": {},
   "source": [
    "<b>Visualize the decision tree</b>"
   ]
  },
  {
   "cell_type": "code",
   "execution_count": 23,
   "metadata": {},
   "outputs": [
    {
     "data": {
      "image/svg+xml": [
       "<?xml version=\"1.0\" encoding=\"UTF-8\" standalone=\"no\"?>\r\n",
       "<!DOCTYPE svg PUBLIC \"-//W3C//DTD SVG 1.1//EN\"\r\n",
       " \"http://www.w3.org/Graphics/SVG/1.1/DTD/svg11.dtd\">\r\n",
       "<!-- Generated by graphviz version 2.38.0 (20140413.2041)\r\n",
       " -->\r\n",
       "<!-- Title: Tree Pages: 1 -->\r\n",
       "<svg width=\"1265pt\" height=\"460pt\"\r\n",
       " viewBox=\"0.00 0.00 1264.50 460.00\" xmlns=\"http://www.w3.org/2000/svg\" xmlns:xlink=\"http://www.w3.org/1999/xlink\">\r\n",
       "<g id=\"graph0\" class=\"graph\" transform=\"scale(1 1) rotate(0) translate(4 456)\">\r\n",
       "<title>Tree</title>\r\n",
       "<polygon fill=\"white\" stroke=\"none\" points=\"-4,4 -4,-456 1260.5,-456 1260.5,4 -4,4\"/>\r\n",
       "<!-- 0 -->\r\n",
       "<g id=\"node1\" class=\"node\"><title>0</title>\r\n",
       "<polygon fill=\"none\" stroke=\"black\" points=\"734,-452 567,-452 567,-384 734,-384 734,-452\"/>\r\n",
       "<text text-anchor=\"middle\" x=\"650.5\" y=\"-436.8\" font-family=\"Times New Roman,serif\" font-size=\"14.00\">mean_perimeter &lt;= 98.755</text>\r\n",
       "<text text-anchor=\"middle\" x=\"650.5\" y=\"-421.8\" font-family=\"Times New Roman,serif\" font-size=\"14.00\">gini = 0.465</text>\r\n",
       "<text text-anchor=\"middle\" x=\"650.5\" y=\"-406.8\" font-family=\"Times New Roman,serif\" font-size=\"14.00\">samples = 426</text>\r\n",
       "<text text-anchor=\"middle\" x=\"650.5\" y=\"-391.8\" font-family=\"Times New Roman,serif\" font-size=\"14.00\">value = [157, 269]</text>\r\n",
       "</g>\r\n",
       "<!-- 1 -->\r\n",
       "<g id=\"node2\" class=\"node\"><title>1</title>\r\n",
       "<polygon fill=\"none\" stroke=\"black\" points=\"605,-348 438,-348 438,-280 605,-280 605,-348\"/>\r\n",
       "<text text-anchor=\"middle\" x=\"521.5\" y=\"-332.8\" font-family=\"Times New Roman,serif\" font-size=\"14.00\">mean_perimeter &lt;= 89.995</text>\r\n",
       "<text text-anchor=\"middle\" x=\"521.5\" y=\"-317.8\" font-family=\"Times New Roman,serif\" font-size=\"14.00\">gini = 0.212</text>\r\n",
       "<text text-anchor=\"middle\" x=\"521.5\" y=\"-302.8\" font-family=\"Times New Roman,serif\" font-size=\"14.00\">samples = 299</text>\r\n",
       "<text text-anchor=\"middle\" x=\"521.5\" y=\"-287.8\" font-family=\"Times New Roman,serif\" font-size=\"14.00\">value = [36, 263]</text>\r\n",
       "</g>\r\n",
       "<!-- 0&#45;&gt;1 -->\r\n",
       "<g id=\"edge1\" class=\"edge\"><title>0&#45;&gt;1</title>\r\n",
       "<path fill=\"none\" stroke=\"black\" d=\"M608.617,-383.884C596.789,-374.531 583.799,-364.259 571.542,-354.568\"/>\r\n",
       "<polygon fill=\"black\" stroke=\"black\" points=\"573.629,-351.756 563.614,-348.299 569.287,-357.247 573.629,-351.756\"/>\r\n",
       "<text text-anchor=\"middle\" x=\"566.516\" y=\"-369.43\" font-family=\"Times New Roman,serif\" font-size=\"14.00\">True</text>\r\n",
       "</g>\r\n",
       "<!-- 48 -->\r\n",
       "<g id=\"node17\" class=\"node\"><title>48</title>\r\n",
       "<polygon fill=\"none\" stroke=\"black\" points=\"856.5,-348 704.5,-348 704.5,-280 856.5,-280 856.5,-348\"/>\r\n",
       "<text text-anchor=\"middle\" x=\"780.5\" y=\"-332.8\" font-family=\"Times New Roman,serif\" font-size=\"14.00\">mean_texture &lt;= 16.395</text>\r\n",
       "<text text-anchor=\"middle\" x=\"780.5\" y=\"-317.8\" font-family=\"Times New Roman,serif\" font-size=\"14.00\">gini = 0.09</text>\r\n",
       "<text text-anchor=\"middle\" x=\"780.5\" y=\"-302.8\" font-family=\"Times New Roman,serif\" font-size=\"14.00\">samples = 127</text>\r\n",
       "<text text-anchor=\"middle\" x=\"780.5\" y=\"-287.8\" font-family=\"Times New Roman,serif\" font-size=\"14.00\">value = [121, 6]</text>\r\n",
       "</g>\r\n",
       "<!-- 0&#45;&gt;48 -->\r\n",
       "<g id=\"edge16\" class=\"edge\"><title>0&#45;&gt;48</title>\r\n",
       "<path fill=\"none\" stroke=\"black\" d=\"M692.707,-383.884C704.627,-374.531 717.719,-364.259 730.07,-354.568\"/>\r\n",
       "<polygon fill=\"black\" stroke=\"black\" points=\"732.353,-357.226 738.06,-348.299 728.032,-351.719 732.353,-357.226\"/>\r\n",
       "<text text-anchor=\"middle\" x=\"735.064\" y=\"-369.419\" font-family=\"Times New Roman,serif\" font-size=\"14.00\">False</text>\r\n",
       "</g>\r\n",
       "<!-- 2 -->\r\n",
       "<g id=\"node3\" class=\"node\"><title>2</title>\r\n",
       "<polygon fill=\"none\" stroke=\"black\" points=\"349.5,-244 189.5,-244 189.5,-176 349.5,-176 349.5,-244\"/>\r\n",
       "<text text-anchor=\"middle\" x=\"269.5\" y=\"-228.8\" font-family=\"Times New Roman,serif\" font-size=\"14.00\">mean_perimeter &lt;= 85.25</text>\r\n",
       "<text text-anchor=\"middle\" x=\"269.5\" y=\"-213.8\" font-family=\"Times New Roman,serif\" font-size=\"14.00\">gini = 0.112</text>\r\n",
       "<text text-anchor=\"middle\" x=\"269.5\" y=\"-198.8\" font-family=\"Times New Roman,serif\" font-size=\"14.00\">samples = 252</text>\r\n",
       "<text text-anchor=\"middle\" x=\"269.5\" y=\"-183.8\" font-family=\"Times New Roman,serif\" font-size=\"14.00\">value = [15, 237]</text>\r\n",
       "</g>\r\n",
       "<!-- 1&#45;&gt;2 -->\r\n",
       "<g id=\"edge2\" class=\"edge\"><title>1&#45;&gt;2</title>\r\n",
       "<path fill=\"none\" stroke=\"black\" d=\"M439.683,-279.884C413.955,-269.47 385.414,-257.918 359.172,-247.296\"/>\r\n",
       "<polygon fill=\"black\" stroke=\"black\" points=\"360.2,-243.936 349.617,-243.428 357.573,-250.425 360.2,-243.936\"/>\r\n",
       "</g>\r\n",
       "<!-- 35 -->\r\n",
       "<g id=\"node10\" class=\"node\"><title>35</title>\r\n",
       "<polygon fill=\"none\" stroke=\"black\" points=\"594.5,-244 448.5,-244 448.5,-176 594.5,-176 594.5,-244\"/>\r\n",
       "<text text-anchor=\"middle\" x=\"521.5\" y=\"-228.8\" font-family=\"Times New Roman,serif\" font-size=\"14.00\">mean_texture &lt;= 19.75</text>\r\n",
       "<text text-anchor=\"middle\" x=\"521.5\" y=\"-213.8\" font-family=\"Times New Roman,serif\" font-size=\"14.00\">gini = 0.494</text>\r\n",
       "<text text-anchor=\"middle\" x=\"521.5\" y=\"-198.8\" font-family=\"Times New Roman,serif\" font-size=\"14.00\">samples = 47</text>\r\n",
       "<text text-anchor=\"middle\" x=\"521.5\" y=\"-183.8\" font-family=\"Times New Roman,serif\" font-size=\"14.00\">value = [21, 26]</text>\r\n",
       "</g>\r\n",
       "<!-- 1&#45;&gt;35 -->\r\n",
       "<g id=\"edge9\" class=\"edge\"><title>1&#45;&gt;35</title>\r\n",
       "<path fill=\"none\" stroke=\"black\" d=\"M521.5,-279.884C521.5,-271.778 521.5,-262.982 521.5,-254.472\"/>\r\n",
       "<polygon fill=\"black\" stroke=\"black\" points=\"525,-254.299 521.5,-244.299 518,-254.299 525,-254.299\"/>\r\n",
       "</g>\r\n",
       "<!-- 3 -->\r\n",
       "<g id=\"node4\" class=\"node\"><title>3</title>\r\n",
       "<polygon fill=\"none\" stroke=\"black\" points=\"175,-140 0,-140 0,-72 175,-72 175,-140\"/>\r\n",
       "<text text-anchor=\"middle\" x=\"87.5\" y=\"-124.8\" font-family=\"Times New Roman,serif\" font-size=\"14.00\">mean_smoothness &lt;= 0.109</text>\r\n",
       "<text text-anchor=\"middle\" x=\"87.5\" y=\"-109.8\" font-family=\"Times New Roman,serif\" font-size=\"14.00\">gini = 0.048</text>\r\n",
       "<text text-anchor=\"middle\" x=\"87.5\" y=\"-94.8\" font-family=\"Times New Roman,serif\" font-size=\"14.00\">samples = 204</text>\r\n",
       "<text text-anchor=\"middle\" x=\"87.5\" y=\"-79.8\" font-family=\"Times New Roman,serif\" font-size=\"14.00\">value = [5, 199]</text>\r\n",
       "</g>\r\n",
       "<!-- 2&#45;&gt;3 -->\r\n",
       "<g id=\"edge3\" class=\"edge\"><title>2&#45;&gt;3</title>\r\n",
       "<path fill=\"none\" stroke=\"black\" d=\"M210.41,-175.884C192.838,-166.035 173.448,-155.169 155.364,-145.034\"/>\r\n",
       "<polygon fill=\"black\" stroke=\"black\" points=\"157.04,-141.961 146.605,-140.125 153.617,-148.067 157.04,-141.961\"/>\r\n",
       "</g>\r\n",
       "<!-- 22 -->\r\n",
       "<g id=\"node7\" class=\"node\"><title>22</title>\r\n",
       "<polygon fill=\"none\" stroke=\"black\" points=\"345.5,-140 193.5,-140 193.5,-72 345.5,-72 345.5,-140\"/>\r\n",
       "<text text-anchor=\"middle\" x=\"269.5\" y=\"-124.8\" font-family=\"Times New Roman,serif\" font-size=\"14.00\">mean_texture &lt;= 19.615</text>\r\n",
       "<text text-anchor=\"middle\" x=\"269.5\" y=\"-109.8\" font-family=\"Times New Roman,serif\" font-size=\"14.00\">gini = 0.33</text>\r\n",
       "<text text-anchor=\"middle\" x=\"269.5\" y=\"-94.8\" font-family=\"Times New Roman,serif\" font-size=\"14.00\">samples = 48</text>\r\n",
       "<text text-anchor=\"middle\" x=\"269.5\" y=\"-79.8\" font-family=\"Times New Roman,serif\" font-size=\"14.00\">value = [10, 38]</text>\r\n",
       "</g>\r\n",
       "<!-- 2&#45;&gt;22 -->\r\n",
       "<g id=\"edge6\" class=\"edge\"><title>2&#45;&gt;22</title>\r\n",
       "<path fill=\"none\" stroke=\"black\" d=\"M269.5,-175.884C269.5,-167.778 269.5,-158.982 269.5,-150.472\"/>\r\n",
       "<polygon fill=\"black\" stroke=\"black\" points=\"273,-150.299 269.5,-140.299 266,-150.299 273,-150.299\"/>\r\n",
       "</g>\r\n",
       "<!-- 4 -->\r\n",
       "<g id=\"node5\" class=\"node\"><title>4</title>\r\n",
       "<polygon fill=\"none\" stroke=\"black\" points=\"102.5,-36 48.5,-36 48.5,-0 102.5,-0 102.5,-36\"/>\r\n",
       "<text text-anchor=\"middle\" x=\"75.5\" y=\"-14.3\" font-family=\"Times New Roman,serif\" font-size=\"14.00\">(...)</text>\r\n",
       "</g>\r\n",
       "<!-- 3&#45;&gt;4 -->\r\n",
       "<g id=\"edge4\" class=\"edge\"><title>3&#45;&gt;4</title>\r\n",
       "<path fill=\"none\" stroke=\"black\" d=\"M82.8948,-71.9961C81.7183,-63.5646 80.4661,-54.5902 79.333,-46.4696\"/>\r\n",
       "<polygon fill=\"black\" stroke=\"black\" points=\"82.7768,-45.8237 77.9284,-36.4034 75.844,-46.7911 82.7768,-45.8237\"/>\r\n",
       "</g>\r\n",
       "<!-- 13 -->\r\n",
       "<g id=\"node6\" class=\"node\"><title>13</title>\r\n",
       "<polygon fill=\"none\" stroke=\"black\" points=\"174.5,-36 120.5,-36 120.5,-0 174.5,-0 174.5,-36\"/>\r\n",
       "<text text-anchor=\"middle\" x=\"147.5\" y=\"-14.3\" font-family=\"Times New Roman,serif\" font-size=\"14.00\">(...)</text>\r\n",
       "</g>\r\n",
       "<!-- 3&#45;&gt;13 -->\r\n",
       "<g id=\"edge5\" class=\"edge\"><title>3&#45;&gt;13</title>\r\n",
       "<path fill=\"none\" stroke=\"black\" d=\"M110.526,-71.9961C116.805,-62.9962 123.516,-53.3778 129.473,-44.8393\"/>\r\n",
       "<polygon fill=\"black\" stroke=\"black\" points=\"132.507,-46.6073 135.358,-36.4034 126.766,-42.602 132.507,-46.6073\"/>\r\n",
       "</g>\r\n",
       "<!-- 23 -->\r\n",
       "<g id=\"node8\" class=\"node\"><title>23</title>\r\n",
       "<polygon fill=\"none\" stroke=\"black\" points=\"249.5,-36 195.5,-36 195.5,-0 249.5,-0 249.5,-36\"/>\r\n",
       "<text text-anchor=\"middle\" x=\"222.5\" y=\"-14.3\" font-family=\"Times New Roman,serif\" font-size=\"14.00\">(...)</text>\r\n",
       "</g>\r\n",
       "<!-- 22&#45;&gt;23 -->\r\n",
       "<g id=\"edge7\" class=\"edge\"><title>22&#45;&gt;23</title>\r\n",
       "<path fill=\"none\" stroke=\"black\" d=\"M251.463,-71.9961C246.648,-63.1856 241.509,-53.7825 236.917,-45.38\"/>\r\n",
       "<polygon fill=\"black\" stroke=\"black\" points=\"239.878,-43.4999 232.011,-36.4034 233.736,-46.857 239.878,-43.4999\"/>\r\n",
       "</g>\r\n",
       "<!-- 26 -->\r\n",
       "<g id=\"node9\" class=\"node\"><title>26</title>\r\n",
       "<polygon fill=\"none\" stroke=\"black\" points=\"321.5,-36 267.5,-36 267.5,-0 321.5,-0 321.5,-36\"/>\r\n",
       "<text text-anchor=\"middle\" x=\"294.5\" y=\"-14.3\" font-family=\"Times New Roman,serif\" font-size=\"14.00\">(...)</text>\r\n",
       "</g>\r\n",
       "<!-- 22&#45;&gt;26 -->\r\n",
       "<g id=\"edge8\" class=\"edge\"><title>22&#45;&gt;26</title>\r\n",
       "<path fill=\"none\" stroke=\"black\" d=\"M279.094,-71.9961C281.573,-63.4699 284.213,-54.3885 286.594,-46.1962\"/>\r\n",
       "<polygon fill=\"black\" stroke=\"black\" points=\"290.01,-46.9829 289.441,-36.4034 283.289,-45.0289 290.01,-46.9829\"/>\r\n",
       "</g>\r\n",
       "<!-- 36 -->\r\n",
       "<g id=\"node11\" class=\"node\"><title>36</title>\r\n",
       "<polygon fill=\"none\" stroke=\"black\" points=\"501,-140 364,-140 364,-72 501,-72 501,-140\"/>\r\n",
       "<text text-anchor=\"middle\" x=\"432.5\" y=\"-124.8\" font-family=\"Times New Roman,serif\" font-size=\"14.00\">mean_area &lt;= 616.15</text>\r\n",
       "<text text-anchor=\"middle\" x=\"432.5\" y=\"-109.8\" font-family=\"Times New Roman,serif\" font-size=\"14.00\">gini = 0.269</text>\r\n",
       "<text text-anchor=\"middle\" x=\"432.5\" y=\"-94.8\" font-family=\"Times New Roman,serif\" font-size=\"14.00\">samples = 25</text>\r\n",
       "<text text-anchor=\"middle\" x=\"432.5\" y=\"-79.8\" font-family=\"Times New Roman,serif\" font-size=\"14.00\">value = [4, 21]</text>\r\n",
       "</g>\r\n",
       "<!-- 35&#45;&gt;36 -->\r\n",
       "<g id=\"edge10\" class=\"edge\"><title>35&#45;&gt;36</title>\r\n",
       "<path fill=\"none\" stroke=\"black\" d=\"M492.604,-175.884C484.832,-166.976 476.333,-157.235 468.237,-147.957\"/>\r\n",
       "<polygon fill=\"black\" stroke=\"black\" points=\"470.767,-145.533 461.555,-140.299 465.493,-150.135 470.767,-145.533\"/>\r\n",
       "</g>\r\n",
       "<!-- 41 -->\r\n",
       "<g id=\"node14\" class=\"node\"><title>41</title>\r\n",
       "<polygon fill=\"none\" stroke=\"black\" points=\"687.5,-140 519.5,-140 519.5,-72 687.5,-72 687.5,-140\"/>\r\n",
       "<text text-anchor=\"middle\" x=\"603.5\" y=\"-124.8\" font-family=\"Times New Roman,serif\" font-size=\"14.00\">mean_smoothness &lt;= 0.09</text>\r\n",
       "<text text-anchor=\"middle\" x=\"603.5\" y=\"-109.8\" font-family=\"Times New Roman,serif\" font-size=\"14.00\">gini = 0.351</text>\r\n",
       "<text text-anchor=\"middle\" x=\"603.5\" y=\"-94.8\" font-family=\"Times New Roman,serif\" font-size=\"14.00\">samples = 22</text>\r\n",
       "<text text-anchor=\"middle\" x=\"603.5\" y=\"-79.8\" font-family=\"Times New Roman,serif\" font-size=\"14.00\">value = [17, 5]</text>\r\n",
       "</g>\r\n",
       "<!-- 35&#45;&gt;41 -->\r\n",
       "<g id=\"edge13\" class=\"edge\"><title>35&#45;&gt;41</title>\r\n",
       "<path fill=\"none\" stroke=\"black\" d=\"M548.123,-175.884C555.212,-167.065 562.958,-157.43 570.35,-148.235\"/>\r\n",
       "<polygon fill=\"black\" stroke=\"black\" points=\"573.192,-150.286 576.73,-140.299 567.736,-145.9 573.192,-150.286\"/>\r\n",
       "</g>\r\n",
       "<!-- 37 -->\r\n",
       "<g id=\"node12\" class=\"node\"><title>37</title>\r\n",
       "<polygon fill=\"none\" stroke=\"black\" points=\"399.5,-36 345.5,-36 345.5,-0 399.5,-0 399.5,-36\"/>\r\n",
       "<text text-anchor=\"middle\" x=\"372.5\" y=\"-14.3\" font-family=\"Times New Roman,serif\" font-size=\"14.00\">(...)</text>\r\n",
       "</g>\r\n",
       "<!-- 36&#45;&gt;37 -->\r\n",
       "<g id=\"edge11\" class=\"edge\"><title>36&#45;&gt;37</title>\r\n",
       "<path fill=\"none\" stroke=\"black\" d=\"M409.474,-71.9961C403.195,-62.9962 396.484,-53.3778 390.527,-44.8393\"/>\r\n",
       "<polygon fill=\"black\" stroke=\"black\" points=\"393.234,-42.602 384.642,-36.4034 387.493,-46.6073 393.234,-42.602\"/>\r\n",
       "</g>\r\n",
       "<!-- 38 -->\r\n",
       "<g id=\"node13\" class=\"node\"><title>38</title>\r\n",
       "<polygon fill=\"none\" stroke=\"black\" points=\"471.5,-36 417.5,-36 417.5,-0 471.5,-0 471.5,-36\"/>\r\n",
       "<text text-anchor=\"middle\" x=\"444.5\" y=\"-14.3\" font-family=\"Times New Roman,serif\" font-size=\"14.00\">(...)</text>\r\n",
       "</g>\r\n",
       "<!-- 36&#45;&gt;38 -->\r\n",
       "<g id=\"edge12\" class=\"edge\"><title>36&#45;&gt;38</title>\r\n",
       "<path fill=\"none\" stroke=\"black\" d=\"M437.105,-71.9961C438.282,-63.5646 439.534,-54.5902 440.667,-46.4696\"/>\r\n",
       "<polygon fill=\"black\" stroke=\"black\" points=\"444.156,-46.7911 442.072,-36.4034 437.223,-45.8237 444.156,-46.7911\"/>\r\n",
       "</g>\r\n",
       "<!-- 42 -->\r\n",
       "<g id=\"node15\" class=\"node\"><title>42</title>\r\n",
       "<polygon fill=\"none\" stroke=\"black\" points=\"574.5,-36 520.5,-36 520.5,-0 574.5,-0 574.5,-36\"/>\r\n",
       "<text text-anchor=\"middle\" x=\"547.5\" y=\"-14.3\" font-family=\"Times New Roman,serif\" font-size=\"14.00\">(...)</text>\r\n",
       "</g>\r\n",
       "<!-- 41&#45;&gt;42 -->\r\n",
       "<g id=\"edge14\" class=\"edge\"><title>41&#45;&gt;42</title>\r\n",
       "<path fill=\"none\" stroke=\"black\" d=\"M582.009,-71.9961C576.149,-62.9962 569.886,-53.3778 564.326,-44.8393\"/>\r\n",
       "<polygon fill=\"black\" stroke=\"black\" points=\"567.222,-42.8735 558.832,-36.4034 561.356,-46.6933 567.222,-42.8735\"/>\r\n",
       "</g>\r\n",
       "<!-- 43 -->\r\n",
       "<g id=\"node16\" class=\"node\"><title>43</title>\r\n",
       "<polygon fill=\"none\" stroke=\"black\" points=\"646.5,-36 592.5,-36 592.5,-0 646.5,-0 646.5,-36\"/>\r\n",
       "<text text-anchor=\"middle\" x=\"619.5\" y=\"-14.3\" font-family=\"Times New Roman,serif\" font-size=\"14.00\">(...)</text>\r\n",
       "</g>\r\n",
       "<!-- 41&#45;&gt;43 -->\r\n",
       "<g id=\"edge15\" class=\"edge\"><title>41&#45;&gt;43</title>\r\n",
       "<path fill=\"none\" stroke=\"black\" d=\"M609.64,-71.9961C611.209,-63.5646 612.879,-54.5902 614.389,-46.4696\"/>\r\n",
       "<polygon fill=\"black\" stroke=\"black\" points=\"617.874,-46.8749 616.262,-36.4034 610.992,-45.5945 617.874,-46.8749\"/>\r\n",
       "</g>\r\n",
       "<!-- 49 -->\r\n",
       "<g id=\"node18\" class=\"node\"><title>49</title>\r\n",
       "<polygon fill=\"none\" stroke=\"black\" points=\"851.5,-244 709.5,-244 709.5,-176 851.5,-176 851.5,-244\"/>\r\n",
       "<text text-anchor=\"middle\" x=\"780.5\" y=\"-228.8\" font-family=\"Times New Roman,serif\" font-size=\"14.00\">mean_radius &lt;= 17.95</text>\r\n",
       "<text text-anchor=\"middle\" x=\"780.5\" y=\"-213.8\" font-family=\"Times New Roman,serif\" font-size=\"14.00\">gini = 0.494</text>\r\n",
       "<text text-anchor=\"middle\" x=\"780.5\" y=\"-198.8\" font-family=\"Times New Roman,serif\" font-size=\"14.00\">samples = 9</text>\r\n",
       "<text text-anchor=\"middle\" x=\"780.5\" y=\"-183.8\" font-family=\"Times New Roman,serif\" font-size=\"14.00\">value = [4, 5]</text>\r\n",
       "</g>\r\n",
       "<!-- 48&#45;&gt;49 -->\r\n",
       "<g id=\"edge17\" class=\"edge\"><title>48&#45;&gt;49</title>\r\n",
       "<path fill=\"none\" stroke=\"black\" d=\"M780.5,-279.884C780.5,-271.778 780.5,-262.982 780.5,-254.472\"/>\r\n",
       "<polygon fill=\"black\" stroke=\"black\" points=\"784,-254.299 780.5,-244.299 777,-254.299 784,-254.299\"/>\r\n",
       "</g>\r\n",
       "<!-- 54 -->\r\n",
       "<g id=\"node23\" class=\"node\"><title>54</title>\r\n",
       "<polygon fill=\"none\" stroke=\"black\" points=\"1131.5,-244 985.5,-244 985.5,-176 1131.5,-176 1131.5,-244\"/>\r\n",
       "<text text-anchor=\"middle\" x=\"1058.5\" y=\"-228.8\" font-family=\"Times New Roman,serif\" font-size=\"14.00\">mean_texture &lt;= 18.38</text>\r\n",
       "<text text-anchor=\"middle\" x=\"1058.5\" y=\"-213.8\" font-family=\"Times New Roman,serif\" font-size=\"14.00\">gini = 0.017</text>\r\n",
       "<text text-anchor=\"middle\" x=\"1058.5\" y=\"-198.8\" font-family=\"Times New Roman,serif\" font-size=\"14.00\">samples = 118</text>\r\n",
       "<text text-anchor=\"middle\" x=\"1058.5\" y=\"-183.8\" font-family=\"Times New Roman,serif\" font-size=\"14.00\">value = [117, 1]</text>\r\n",
       "</g>\r\n",
       "<!-- 48&#45;&gt;54 -->\r\n",
       "<g id=\"edge22\" class=\"edge\"><title>48&#45;&gt;54</title>\r\n",
       "<path fill=\"none\" stroke=\"black\" d=\"M856.832,-284.993C893.73,-271.455 938.078,-255.183 975.78,-241.35\"/>\r\n",
       "<polygon fill=\"black\" stroke=\"black\" points=\"977.031,-244.62 985.214,-237.889 974.62,-238.048 977.031,-244.62\"/>\r\n",
       "</g>\r\n",
       "<!-- 50 -->\r\n",
       "<g id=\"node19\" class=\"node\"><title>50</title>\r\n",
       "<polygon fill=\"none\" stroke=\"black\" points=\"855,-140 706,-140 706,-72 855,-72 855,-140\"/>\r\n",
       "<text text-anchor=\"middle\" x=\"780.5\" y=\"-124.8\" font-family=\"Times New Roman,serif\" font-size=\"14.00\">mean_radius &lt;= 16.085</text>\r\n",
       "<text text-anchor=\"middle\" x=\"780.5\" y=\"-109.8\" font-family=\"Times New Roman,serif\" font-size=\"14.00\">gini = 0.408</text>\r\n",
       "<text text-anchor=\"middle\" x=\"780.5\" y=\"-94.8\" font-family=\"Times New Roman,serif\" font-size=\"14.00\">samples = 7</text>\r\n",
       "<text text-anchor=\"middle\" x=\"780.5\" y=\"-79.8\" font-family=\"Times New Roman,serif\" font-size=\"14.00\">value = [2, 5]</text>\r\n",
       "</g>\r\n",
       "<!-- 49&#45;&gt;50 -->\r\n",
       "<g id=\"edge18\" class=\"edge\"><title>49&#45;&gt;50</title>\r\n",
       "<path fill=\"none\" stroke=\"black\" d=\"M780.5,-175.884C780.5,-167.778 780.5,-158.982 780.5,-150.472\"/>\r\n",
       "<polygon fill=\"black\" stroke=\"black\" points=\"784,-150.299 780.5,-140.299 777,-150.299 784,-150.299\"/>\r\n",
       "</g>\r\n",
       "<!-- 53 -->\r\n",
       "<g id=\"node22\" class=\"node\"><title>53</title>\r\n",
       "<polygon fill=\"none\" stroke=\"black\" points=\"964,-132.5 873,-132.5 873,-79.5 964,-79.5 964,-132.5\"/>\r\n",
       "<text text-anchor=\"middle\" x=\"918.5\" y=\"-117.3\" font-family=\"Times New Roman,serif\" font-size=\"14.00\">gini = 0.0</text>\r\n",
       "<text text-anchor=\"middle\" x=\"918.5\" y=\"-102.3\" font-family=\"Times New Roman,serif\" font-size=\"14.00\">samples = 2</text>\r\n",
       "<text text-anchor=\"middle\" x=\"918.5\" y=\"-87.3\" font-family=\"Times New Roman,serif\" font-size=\"14.00\">value = [2, 0]</text>\r\n",
       "</g>\r\n",
       "<!-- 49&#45;&gt;53 -->\r\n",
       "<g id=\"edge21\" class=\"edge\"><title>49&#45;&gt;53</title>\r\n",
       "<path fill=\"none\" stroke=\"black\" d=\"M825.305,-175.884C841.523,-163.896 859.784,-150.399 875.815,-138.549\"/>\r\n",
       "<polygon fill=\"black\" stroke=\"black\" points=\"878.012,-141.279 883.973,-132.52 873.851,-135.649 878.012,-141.279\"/>\r\n",
       "</g>\r\n",
       "<!-- 51 -->\r\n",
       "<g id=\"node20\" class=\"node\"><title>51</title>\r\n",
       "<polygon fill=\"none\" stroke=\"black\" points=\"771.5,-36 717.5,-36 717.5,-0 771.5,-0 771.5,-36\"/>\r\n",
       "<text text-anchor=\"middle\" x=\"744.5\" y=\"-14.3\" font-family=\"Times New Roman,serif\" font-size=\"14.00\">(...)</text>\r\n",
       "</g>\r\n",
       "<!-- 50&#45;&gt;51 -->\r\n",
       "<g id=\"edge19\" class=\"edge\"><title>50&#45;&gt;51</title>\r\n",
       "<path fill=\"none\" stroke=\"black\" d=\"M766.684,-71.9961C763.036,-63.2804 759.145,-53.9846 755.656,-45.6514\"/>\r\n",
       "<polygon fill=\"black\" stroke=\"black\" points=\"758.875,-44.2763 751.785,-36.4034 752.418,-46.9793 758.875,-44.2763\"/>\r\n",
       "</g>\r\n",
       "<!-- 52 -->\r\n",
       "<g id=\"node21\" class=\"node\"><title>52</title>\r\n",
       "<polygon fill=\"none\" stroke=\"black\" points=\"843.5,-36 789.5,-36 789.5,-0 843.5,-0 843.5,-36\"/>\r\n",
       "<text text-anchor=\"middle\" x=\"816.5\" y=\"-14.3\" font-family=\"Times New Roman,serif\" font-size=\"14.00\">(...)</text>\r\n",
       "</g>\r\n",
       "<!-- 50&#45;&gt;52 -->\r\n",
       "<g id=\"edge20\" class=\"edge\"><title>50&#45;&gt;52</title>\r\n",
       "<path fill=\"none\" stroke=\"black\" d=\"M794.316,-71.9961C797.964,-63.2804 801.855,-53.9846 805.344,-45.6514\"/>\r\n",
       "<polygon fill=\"black\" stroke=\"black\" points=\"808.582,-46.9793 809.215,-36.4034 802.125,-44.2763 808.582,-46.9793\"/>\r\n",
       "</g>\r\n",
       "<!-- 55 -->\r\n",
       "<g id=\"node24\" class=\"node\"><title>55</title>\r\n",
       "<polygon fill=\"none\" stroke=\"black\" points=\"1134.5,-140 982.5,-140 982.5,-72 1134.5,-72 1134.5,-140\"/>\r\n",
       "<text text-anchor=\"middle\" x=\"1058.5\" y=\"-124.8\" font-family=\"Times New Roman,serif\" font-size=\"14.00\">mean_texture &lt;= 18.235</text>\r\n",
       "<text text-anchor=\"middle\" x=\"1058.5\" y=\"-109.8\" font-family=\"Times New Roman,serif\" font-size=\"14.00\">gini = 0.124</text>\r\n",
       "<text text-anchor=\"middle\" x=\"1058.5\" y=\"-94.8\" font-family=\"Times New Roman,serif\" font-size=\"14.00\">samples = 15</text>\r\n",
       "<text text-anchor=\"middle\" x=\"1058.5\" y=\"-79.8\" font-family=\"Times New Roman,serif\" font-size=\"14.00\">value = [14, 1]</text>\r\n",
       "</g>\r\n",
       "<!-- 54&#45;&gt;55 -->\r\n",
       "<g id=\"edge23\" class=\"edge\"><title>54&#45;&gt;55</title>\r\n",
       "<path fill=\"none\" stroke=\"black\" d=\"M1058.5,-175.884C1058.5,-167.778 1058.5,-158.982 1058.5,-150.472\"/>\r\n",
       "<polygon fill=\"black\" stroke=\"black\" points=\"1062,-150.299 1058.5,-140.299 1055,-150.299 1062,-150.299\"/>\r\n",
       "</g>\r\n",
       "<!-- 58 -->\r\n",
       "<g id=\"node27\" class=\"node\"><title>58</title>\r\n",
       "<polygon fill=\"none\" stroke=\"black\" points=\"1256.5,-132.5 1152.5,-132.5 1152.5,-79.5 1256.5,-79.5 1256.5,-132.5\"/>\r\n",
       "<text text-anchor=\"middle\" x=\"1204.5\" y=\"-117.3\" font-family=\"Times New Roman,serif\" font-size=\"14.00\">gini = 0.0</text>\r\n",
       "<text text-anchor=\"middle\" x=\"1204.5\" y=\"-102.3\" font-family=\"Times New Roman,serif\" font-size=\"14.00\">samples = 103</text>\r\n",
       "<text text-anchor=\"middle\" x=\"1204.5\" y=\"-87.3\" font-family=\"Times New Roman,serif\" font-size=\"14.00\">value = [103, 0]</text>\r\n",
       "</g>\r\n",
       "<!-- 54&#45;&gt;58 -->\r\n",
       "<g id=\"edge26\" class=\"edge\"><title>54&#45;&gt;58</title>\r\n",
       "<path fill=\"none\" stroke=\"black\" d=\"M1105.9,-175.884C1123.06,-163.896 1142.38,-150.399 1159.34,-138.549\"/>\r\n",
       "<polygon fill=\"black\" stroke=\"black\" points=\"1161.78,-141.116 1167.97,-132.52 1157.77,-135.378 1161.78,-141.116\"/>\r\n",
       "</g>\r\n",
       "<!-- 56 -->\r\n",
       "<g id=\"node25\" class=\"node\"><title>56</title>\r\n",
       "<polygon fill=\"none\" stroke=\"black\" points=\"1049.5,-36 995.5,-36 995.5,-0 1049.5,-0 1049.5,-36\"/>\r\n",
       "<text text-anchor=\"middle\" x=\"1022.5\" y=\"-14.3\" font-family=\"Times New Roman,serif\" font-size=\"14.00\">(...)</text>\r\n",
       "</g>\r\n",
       "<!-- 55&#45;&gt;56 -->\r\n",
       "<g id=\"edge24\" class=\"edge\"><title>55&#45;&gt;56</title>\r\n",
       "<path fill=\"none\" stroke=\"black\" d=\"M1044.68,-71.9961C1041.04,-63.2804 1037.14,-53.9846 1033.66,-45.6514\"/>\r\n",
       "<polygon fill=\"black\" stroke=\"black\" points=\"1036.88,-44.2763 1029.79,-36.4034 1030.42,-46.9793 1036.88,-44.2763\"/>\r\n",
       "</g>\r\n",
       "<!-- 57 -->\r\n",
       "<g id=\"node26\" class=\"node\"><title>57</title>\r\n",
       "<polygon fill=\"none\" stroke=\"black\" points=\"1121.5,-36 1067.5,-36 1067.5,-0 1121.5,-0 1121.5,-36\"/>\r\n",
       "<text text-anchor=\"middle\" x=\"1094.5\" y=\"-14.3\" font-family=\"Times New Roman,serif\" font-size=\"14.00\">(...)</text>\r\n",
       "</g>\r\n",
       "<!-- 55&#45;&gt;57 -->\r\n",
       "<g id=\"edge25\" class=\"edge\"><title>55&#45;&gt;57</title>\r\n",
       "<path fill=\"none\" stroke=\"black\" d=\"M1072.32,-71.9961C1075.96,-63.2804 1079.86,-53.9846 1083.34,-45.6514\"/>\r\n",
       "<polygon fill=\"black\" stroke=\"black\" points=\"1086.58,-46.9793 1087.21,-36.4034 1080.12,-44.2763 1086.58,-46.9793\"/>\r\n",
       "</g>\r\n",
       "</g>\r\n",
       "</svg>\r\n"
      ],
      "text/plain": [
       "<graphviz.files.Source at 0x1ee1ecd0d08>"
      ]
     },
     "execution_count": 23,
     "metadata": {},
     "output_type": "execute_result"
    }
   ],
   "source": [
    "from sklearn import tree\n",
    "import graphviz\n",
    "from graphviz import Source\n",
    "Source(tree.export_graphviz(dt2, out_file=None, feature_names= x_train.columns, max_depth = 3))"
   ]
  },
  {
   "cell_type": "code",
   "execution_count": null,
   "metadata": {},
   "outputs": [],
   "source": []
  },
  {
   "cell_type": "code",
   "execution_count": null,
   "metadata": {},
   "outputs": [],
   "source": []
  },
  {
   "cell_type": "code",
   "execution_count": null,
   "metadata": {},
   "outputs": [],
   "source": []
  },
  {
   "cell_type": "code",
   "execution_count": null,
   "metadata": {},
   "outputs": [],
   "source": []
  }
 ],
 "metadata": {
  "kernelspec": {
   "display_name": "Python 3",
   "language": "python",
   "name": "python3"
  },
  "language_info": {
   "codemirror_mode": {
    "name": "ipython",
    "version": 3
   },
   "file_extension": ".py",
   "mimetype": "text/x-python",
   "name": "python",
   "nbconvert_exporter": "python",
   "pygments_lexer": "ipython3",
   "version": "3.7.4"
  }
 },
 "nbformat": 4,
 "nbformat_minor": 2
}
